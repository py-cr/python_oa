{
 "cells": [
  {
   "cell_type": "code",
   "execution_count": 1,
   "metadata": {},
   "outputs": [
    {
     "name": "stdout",
     "output_type": "stream",
     "text": [
      "Looking in indexes: https://mirrors.aliyun.com/pypi/simple/\n",
      "Collecting python-pptx\n",
      "  Downloading https://mirrors.aliyun.com/pypi/packages/eb/c3/bd8f2316a790291ef5aa5225c740fa60e2cf754376e90cb1a44fde056830/python-pptx-0.6.21.tar.gz (10.1MB)\n",
      "Requirement already satisfied: lxml>=3.1.0 in c:\\programdata\\anaconda3\\lib\\site-packages (from python-pptx) (4.4.1)\n",
      "Requirement already satisfied: Pillow>=3.3.2 in c:\\programdata\\anaconda3\\lib\\site-packages (from python-pptx) (5.2.0)\n",
      "Requirement already satisfied: XlsxWriter>=0.5.7 in c:\\programdata\\anaconda3\\lib\\site-packages (from python-pptx) (1.2.1)\n",
      "Building wheels for collected packages: python-pptx\n",
      "  Building wheel for python-pptx (setup.py): started\n",
      "  Building wheel for python-pptx (setup.py): finished with status 'done'\n",
      "  Created wheel for python-pptx: filename=python_pptx-0.6.21-cp37-none-any.whl size=471170 sha256=c7964cfb401bba526fce9888d40b734a4090659bd7b244471f80ae138cc798fb\n",
      "  Stored in directory: C:\\Users\\Administrator\\AppData\\Local\\pip\\Cache\\wheels\\01\\39\\0a\\1c02c94f34b82496c8989ad5c67c0fd71340822151ce6899d2\n",
      "Successfully built python-pptx\n",
      "Installing collected packages: python-pptx\n",
      "Successfully installed python-pptx-0.6.21\n"
     ]
    }
   ],
   "source": [
    "# 安装工具包\n",
    "!pip install -i https://mirrors.aliyun.com/pypi/simple/ python-pptx"
   ]
  },
  {
   "cell_type": "code",
   "execution_count": null,
   "metadata": {},
   "outputs": [],
   "source": [
    "from pptx import Presentation\n",
    "from pptx.chart.data import ChartData\n",
    "from pptx.enum.chart import XL_CHART_TYPE\n",
    "from pptx.util import Inches\n",
    "import os"
   ]
  },
  {
   "cell_type": "code",
   "execution_count": 10,
   "metadata": {},
   "outputs": [
    {
     "name": "stdout",
     "output_type": "stream",
     "text": [
      "保存目录路径： ./files\n",
      "保存文件路径： ./files/PPT_投票统计.pptx\n"
     ]
    }
   ],
   "source": [
    "# 创建幻灯片 ------\n",
    "prs = Presentation()\n",
    "\n",
    "slide = prs.slides.add_slide(prs.slide_layouts[5])\n",
    "\n",
    "slide.shapes.title.text = \"投票统计\"\n",
    "\n",
    "# 定义图表数据 ---------------------\n",
    "chart_data = ChartData()\n",
    "# 图表定义种类（比如：我们对一个事投赞同反对票）\n",
    "chart_data.categories = ['赞同', '反对', '中立']\n",
    "# 对应上面种类的票数\n",
    "chart_data.add_series('Series 1', (29, 21, 7))\n",
    "\n",
    "# 将图表添加到幻灯片 --------------------\n",
    "# 图表左边缘的位置，图表上边缘的位置，图表的宽度，图表的高度\n",
    "# Inches 英寸\n",
    "x, y, cx, cy = Inches(2), Inches(2), Inches(6), Inches(4.5)\n",
    "# 图表显示的类型，图表位置大小，和图表数据\n",
    "slide.shapes.add_chart(\n",
    "XL_CHART_TYPE.COLUMN_CLUSTERED, x, y, cx, cy, chart_data\n",
    ")\n",
    "save_dir = \"./files\"\n",
    "save_file = save_dir + '/PPT_投票统计.pptx'\n",
    "print(\"保存目录路径：\",save_dir)\n",
    "print(\"保存文件路径：\",save_file)\n",
    "# import os\n",
    "if not os.path.exists(save_dir):\n",
    "    os.mkdir(save_dir)\n",
    "prs.save(save_file)"
   ]
  },
  {
   "cell_type": "code",
   "execution_count": null,
   "metadata": {},
   "outputs": [],
   "source": []
  }
 ],
 "metadata": {
  "kernelspec": {
   "display_name": "Python 3",
   "language": "python",
   "name": "python3"
  },
  "language_info": {
   "codemirror_mode": {
    "name": "ipython",
    "version": 3
   },
   "file_extension": ".py",
   "mimetype": "text/x-python",
   "name": "python",
   "nbconvert_exporter": "python",
   "pygments_lexer": "ipython3",
   "version": "3.7.4"
  }
 },
 "nbformat": 4,
 "nbformat_minor": 2
}
