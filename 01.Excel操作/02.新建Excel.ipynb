{
 "cells": [
  {
   "cell_type": "markdown",
   "metadata": {},
   "source": [
    "# 1、导入可创建 Excel的工具包"
   ]
  },
  {
   "cell_type": "code",
   "execution_count": 25,
   "metadata": {},
   "outputs": [],
   "source": [
    "# xlwt 工具包可以对 xls 文件进行写操作\n",
    "# xlwt 的命名是 excel writer 简写，很容易记忆\n",
    "import xlwt"
   ]
  },
  {
   "cell_type": "markdown",
   "metadata": {},
   "source": [
    "# 2、创建一个工作簿"
   ]
  },
  {
   "cell_type": "markdown",
   "metadata": {},
   "source": [
    "**<font color=blue>我们准备创建Excel如下</font>**<br/>\n",
    "<img src=\"images/xlwt_01.png\" align=\"left\"></img>"
   ]
  },
  {
   "cell_type": "code",
   "execution_count": 26,
   "metadata": {},
   "outputs": [],
   "source": [
    "# 创建一个工作簿（workbook），并设置编码为utf-8（可以忽略，有兴趣可以百度“UTF8编码”）\n",
    "workbook = xlwt.Workbook(encoding='utf-8')"
   ]
  },
  {
   "cell_type": "markdown",
   "metadata": {},
   "source": [
    "# 3、创建一个工作表"
   ]
  },
  {
   "cell_type": "code",
   "execution_count": 27,
   "metadata": {},
   "outputs": [],
   "source": [
    "# 在工作簿（workbook）中，新增一个工作表（worksheet）,并命名为“我的工作表”\n",
    "worksheet = workbook.add_sheet('我的工作表')"
   ]
  },
  {
   "cell_type": "markdown",
   "metadata": {},
   "source": [
    "# 4、在工作表中写入文字"
   ]
  },
  {
   "cell_type": "code",
   "execution_count": 28,
   "metadata": {},
   "outputs": [],
   "source": [
    "# 在工作表（worksheet）中写入文字\n",
    "# 写入方法（write）需要给出 行、列、文字内容 3个关键信息，我们称为参数\n",
    "# 参数 r => row 行，c => column 列，label => 文字标签 \n",
    "worksheet.write(r=0, c=0, label='序号')\n",
    "worksheet.write(r=0, c=1, label='姓名')\n",
    "worksheet.write(r=0, c=2, label='性别')\n",
    "worksheet.write(r=0, c=3, label='年龄')\n",
    "# 以上代码完成了在第一行（r=0）写入标题"
   ]
  },
  {
   "cell_type": "code",
   "execution_count": 29,
   "metadata": {},
   "outputs": [],
   "source": [
    "# 写入第1个人的信息\n",
    "worksheet.write(r=1, c=0, label=1)\n",
    "worksheet.write(r=1, c=1, label='张三风')\n",
    "worksheet.write(r=1, c=2, label='男')\n",
    "worksheet.write(r=1, c=3, label=80)\n",
    "# 以上代码完成了在第二行（r=1）写入“张三风”的信息"
   ]
  },
  {
   "cell_type": "code",
   "execution_count": 30,
   "metadata": {},
   "outputs": [],
   "source": [
    "# 写入第2个人的信息\n",
    "worksheet.write(r=2, c=0, label=2)\n",
    "worksheet.write(r=2, c=1, label='黄小妹')\n",
    "worksheet.write(r=2, c=2, label='女')\n",
    "worksheet.write(r=2, c=3, label=18)\n",
    "# 以上代码完成了在第二行（r=2）写入“黄小妹”的信息"
   ]
  },
  {
   "cell_type": "markdown",
   "metadata": {},
   "source": [
    "# 5、保存Excel文件"
   ]
  },
  {
   "cell_type": "code",
   "execution_count": 33,
   "metadata": {},
   "outputs": [],
   "source": [
    "# 保存工作簿（workbook）到指定文件路径名\n",
    "workbook.save('./files/Excel_写入用户信息.xls')"
   ]
  },
  {
   "cell_type": "markdown",
   "metadata": {},
   "source": [
    "**<font color=blue>Excel创建完成如下</font>**<br/>\n",
    "<img src=\"images/xlwt_02.png\" align=\"left\"></img>"
   ]
  },
  {
   "cell_type": "markdown",
   "metadata": {},
   "source": [
    "# Python总结"
   ]
  },
  {
   "cell_type": "markdown",
   "metadata": {},
   "source": [
    "**<font color=blue size=4> 1、什么是参数？</font>**\n",
    "\n",
    "<font color=blue size=4> 参数 r => row 行，c => column 列，label => 文字标签  </font>\n",
    "\n",
    "<font color=red size=4> worksheet.write(r=0, c=0, label='序号') </font>\n",
    "\n",
    "<font color=blue size=4> 比如：拿猫吃东西举例\n",
    "吃鱼的代码： cat.eat(something=fish)  \n",
    "吃老鼠的代码： cat.eat(something=mouse) </font>"
   ]
  },
  {
   "cell_type": "markdown",
   "metadata": {},
   "source": [
    "**<font color=blue size=4> 2、什么是数据类型？</font>**\n",
    "\n",
    "<font color=red size=4> worksheet.write(r=2, c=0, label=2) </font>\n",
    "\n",
    "<font color=red size=4> worksheet.write(r=2, c=1, label='黄小妹') </font>\n",
    "\n",
    "<font color=blue size=4>\n",
    "\n",
    "看看label=2 和 label='黄小妹'，“2”两边没有单引号，而“黄小妹”两边有单引号\n",
    "因为“2”是数字，而“黄小妹”是字符串，精确的说应该是中文字符串，还有英文字符串，比如：“worksheet”。\n",
    "等一下，看看之前的代码有个 worksheet 好像没有加引号，我们用print 看看效果 </font>"
   ]
  },
  {
   "cell_type": "code",
   "execution_count": 36,
   "metadata": {},
   "outputs": [
    {
     "name": "stdout",
     "output_type": "stream",
     "text": [
      "<xlwt.Worksheet.Worksheet object at 0x000001FD8A08E5C8>\n"
     ]
    }
   ],
   "source": [
    "print(worksheet)"
   ]
  },
  {
   "cell_type": "code",
   "execution_count": 39,
   "metadata": {},
   "outputs": [
    {
     "data": {
      "text/plain": [
       "('worksheet', 'worksheet', 'worksheet')"
      ]
     },
     "execution_count": 39,
     "metadata": {},
     "output_type": "execute_result"
    }
   ],
   "source": [
    "\"worksheet\",'worksheet',\"\"\"worksheet\"\"\""
   ]
  },
  {
   "cell_type": "markdown",
   "metadata": {},
   "source": [
    "worksheet 是对象(Worksheet object)，\"worksheet\" 是字符串，我们就用引号来区分"
   ]
  },
  {
   "cell_type": "code",
   "execution_count": null,
   "metadata": {},
   "outputs": [],
   "source": [
    "Python提供常用的数据类型有：字符串、整型、浮点型、列表、元组、字典、布尔型等等，\n",
    "补充一下，整型就是整数，浮点型就是小数，属于数值类型，其他类型我们以后慢慢讲到。\n",
    "请大家记住这个词“数据类型”"
   ]
  }
 ],
 "metadata": {
  "kernelspec": {
   "display_name": "Python 3",
   "language": "python",
   "name": "python3"
  },
  "language_info": {
   "codemirror_mode": {
    "name": "ipython",
    "version": 3
   },
   "file_extension": ".py",
   "mimetype": "text/x-python",
   "name": "python",
   "nbconvert_exporter": "python",
   "pygments_lexer": "ipython3",
   "version": "3.7.4"
  }
 },
 "nbformat": 4,
 "nbformat_minor": 2
}
