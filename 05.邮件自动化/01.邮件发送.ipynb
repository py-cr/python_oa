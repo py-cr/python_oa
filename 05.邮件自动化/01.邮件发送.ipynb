{
 "cells": [
  {
   "cell_type": "code",
   "execution_count": 10,
   "metadata": {},
   "outputs": [],
   "source": [
    "# 导入邮件工具包（当前mail.py文件定义）\n",
    "from mail import Mail"
   ]
  },
  {
   "cell_type": "code",
   "execution_count": 11,
   "metadata": {},
   "outputs": [],
   "source": [
    "# 创建一个邮件对象，需要提供发送者的以下信息：\n",
    "# 邮箱地址：mail_addr\n",
    "# 邮箱密码：password\n",
    "# 邮箱的 SMTP 服务器地址\n",
    "# 发送者的显示名称\n",
    "mail = Mail.build_mail(mail_addr=\"pythoncr@126.com\",\n",
    "                       password=\"BMULGMPMIPBYMCKD\",\n",
    "                       smtp_server=\"smtp.126.com\",\n",
    "                       display_name=\"Python超人\")"
   ]
  },
  {
   "cell_type": "code",
   "execution_count": 12,
   "metadata": {},
   "outputs": [
    {
     "name": "stdout",
     "output_type": "stream",
     "text": [
      "SMTP服务器smtp.126.com连接中...\n",
      "SMTP服务器登录中....\n",
      "邮件发送中....\n",
      "邮件发送成功\n"
     ]
    }
   ],
   "source": [
    "# 发送文本邮件\n",
    "# 提供 接收人的邮件地址\n",
    "# 邮件标题\n",
    "# 邮件文本内容\n",
    "mail.send_text('pythoncr@yeah.net', 'Python超人发送文本', \"祝您成功！\")"
   ]
  },
  {
   "cell_type": "code",
   "execution_count": 14,
   "metadata": {},
   "outputs": [
    {
     "name": "stdout",
     "output_type": "stream",
     "text": [
      "<!DOCTYPE html>\n",
      "<html>\n",
      "<head>\n",
      "    <style>\n",
      "        #customers {\n",
      "            font-family: Arial, Helvetica, sans-serif;\n",
      "            border-collapse: collapse;\n",
      "            width: 100%;\n",
      "        }\n",
      "\n",
      "        #customers td, #customers th {\n",
      "            border: 1px solid #ddd;\n",
      "            padding: 8px;\n",
      "        }\n",
      "\n",
      "        #customers tr:nth-child(even) {\n",
      "            background-color: #f2f2f2;\n",
      "        }\n",
      "\n",
      "        #customers tr:hover {\n",
      "            background-color: #ddd;\n",
      "        }\n",
      "\n",
      "        #customers th {\n",
      "            padding-top: 12px;\n",
      "            padding-bottom: 12px;\n",
      "            text-align: left;\n",
      "            background-color: #04AA6D;\n",
      "            color: white;\n",
      "        }\n",
      "    </style>\n",
      "</head>\n",
      "<body>\n",
      "\n",
      "<h1>客户名单</h1>\n",
      "\n",
      "<table id=\"customers\">\n",
      "    <tr>\n",
      "        <th>公司</th>\n",
      "        <th>联系人</th>\n",
      "        <th>国家</th>\n",
      "    </tr>\n",
      "    <tr>\n",
      "        <td>旺达科技</td>\n",
      "        <td>李晓</td>\n",
      "        <td>中国</td>\n",
      "    </tr>\n",
      "    <tr>\n",
      "        <td>IBM</td>\n",
      "        <td>Francisco Chang</td>\n",
      "        <td>USA</td>\n",
      "    </tr>\n",
      "    <tr>\n",
      "        <td>Ernst Handel</td>\n",
      "        <td>Roland Mendel</td>\n",
      "        <td>Austria</td>\n",
      "    </tr>\n",
      "    <tr>\n",
      "        <td>Island Trading</td>\n",
      "        <td>Helen Bennett</td>\n",
      "        <td>UK</td>\n",
      "    </tr>\n",
      "    <tr>\n",
      "        <td>Königlich Essen</td>\n",
      "        <td>Philip Cramer</td>\n",
      "        <td>Germany</td>\n",
      "    </tr>\n",
      "</table>\n",
      "</body>\n",
      "</html>\n"
     ]
    }
   ],
   "source": [
    "# 读取客户名单的 HTML（可以忽略，有兴趣可以学习一下 HTML，网页语言）\n",
    "with open(r'.\\templates\\客户名单.html', 'r',encoding='UTF-8') as f:\n",
    "    html = f.read()\n",
    "print(html)"
   ]
  },
  {
   "cell_type": "code",
   "execution_count": 15,
   "metadata": {},
   "outputs": [
    {
     "name": "stdout",
     "output_type": "stream",
     "text": [
      "SMTP服务器smtp.126.com连接中...\n",
      "SMTP服务器登录中....\n",
      "邮件发送中....\n",
      "邮件发送成功\n"
     ]
    }
   ],
   "source": [
    "# 发送 HTML 邮件\n",
    "# 提供 接收人的邮件地址\n",
    "# 邮件标题\n",
    "# 邮件 html 内容\n",
    "mail.send_html('pythoncr@yeah.net', 'Python超人的客户数据', html)\n"
   ]
  },
  {
   "cell_type": "code",
   "execution_count": null,
   "metadata": {},
   "outputs": [],
   "source": []
  }
 ],
 "metadata": {
  "kernelspec": {
   "display_name": "Python 3",
   "language": "python",
   "name": "python3"
  },
  "language_info": {
   "codemirror_mode": {
    "name": "ipython",
    "version": 3
   },
   "file_extension": ".py",
   "mimetype": "text/x-python",
   "name": "python",
   "nbconvert_exporter": "python",
   "pygments_lexer": "ipython3",
   "version": "3.7.4"
  }
 },
 "nbformat": 4,
 "nbformat_minor": 2
}
