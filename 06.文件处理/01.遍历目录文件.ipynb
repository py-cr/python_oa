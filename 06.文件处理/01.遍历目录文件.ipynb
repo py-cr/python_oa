{
 "cells": [
  {
   "cell_type": "code",
   "execution_count": 12,
   "metadata": {},
   "outputs": [],
   "source": [
    "# 导入包\n",
    "import os"
   ]
  },
  {
   "cell_type": "code",
   "execution_count": 13,
   "metadata": {},
   "outputs": [
    {
     "data": {
      "text/plain": [
       "['目录1', '目录2']"
      ]
     },
     "execution_count": 13,
     "metadata": {},
     "output_type": "execute_result"
    }
   ],
   "source": [
    "# 返回查看“./目录0/目录1”文件夹下有哪些文件和目录\n",
    "os.listdir(\"./目录0\")"
   ]
  },
  {
   "cell_type": "code",
   "execution_count": 14,
   "metadata": {},
   "outputs": [
    {
     "data": {
      "text/plain": [
       "['文件1.txt', '文件2.txt']"
      ]
     },
     "execution_count": 14,
     "metadata": {},
     "output_type": "execute_result"
    }
   ],
   "source": [
    "# 返回查看“./目录0/目录1”文件夹下有哪些文件和文件夹\n",
    "os.listdir( \"./目录0/目录1\")"
   ]
  },
  {
   "cell_type": "code",
   "execution_count": 15,
   "metadata": {},
   "outputs": [
    {
     "data": {
      "text/plain": [
       "False"
      ]
     },
     "execution_count": 15,
     "metadata": {},
     "output_type": "execute_result"
    }
   ],
   "source": [
    "# 判断路径是否为文件\n",
    "os.path.isfile(\"./目录0\")"
   ]
  },
  {
   "cell_type": "code",
   "execution_count": 16,
   "metadata": {},
   "outputs": [
    {
     "data": {
      "text/plain": [
       "True"
      ]
     },
     "execution_count": 16,
     "metadata": {},
     "output_type": "execute_result"
    }
   ],
   "source": [
    "# 判断路径是否为文件夹\n",
    "os.path.isdir(\"./目录0\")"
   ]
  },
  {
   "cell_type": "code",
   "execution_count": 23,
   "metadata": {
    "scrolled": true
   },
   "outputs": [
    {
     "name": "stdout",
     "output_type": "stream",
     "text": [
      "全路径： ./目录0/文件0.txt\n",
      "全路径： ./目录0/目录1\n",
      "子目录\n",
      "文件1.txt\n",
      "文件2.txt\n",
      "全路径： ./目录0/目录2\n",
      "文件3.txt\n",
      "文件4.txt\n"
     ]
    }
   ],
   "source": [
    "# 实现遍历2级文件夹\n",
    "# 遍历循环这个文件夹\n",
    "for fd in os.listdir(\"./目录0\"):\n",
    "    # 构建全路径\n",
    "    fd_path = \"./目录0/\" + fd\n",
    "    print(\"全路径：\", fd_path)\n",
    "    # 判断全路径是否为文件夹，如果是，再遍历循环这个文件夹\n",
    "    if os.path.isdir(fd_path):\n",
    "        for fd_1 in os.listdir(fd_path):\n",
    "            print(fd_1)"
   ]
  },
  {
   "cell_type": "code",
   "execution_count": 28,
   "metadata": {},
   "outputs": [
    {
     "name": "stdout",
     "output_type": "stream",
     "text": [
      "全路径： .//.ipynb_checkpoints\n",
      "全路径： .//.ipynb_checkpoints/01.遍历目录文件-checkpoint.ipynb\n",
      "全路径： .//01.遍历目录文件.ipynb\n",
      "全路径： .//README.md\n",
      "全路径： .//目录0\n",
      "全路径： .//目录0/文件0.txt\n",
      "全路径： .//目录0/目录1\n",
      "全路径： .//目录0/目录1/子目录\n",
      "全路径： .//目录0/目录1/文件1.txt\n",
      "全路径： .//目录0/目录1/文件2.txt\n",
      "全路径： .//目录0/目录2\n",
      "全路径： .//目录0/目录2/文件3.txt\n",
      "全路径： .//目录0/目录2/文件4.txt\n",
      "全路径： .//课程更新说明.txt\n"
     ]
    }
   ],
   "source": [
    "# 同理可以实现3、4、5。。。级的文件夹，但显然不是好的办法\n",
    "# 怎么实现自动遍历的文件夹所有的文件？\n",
    "def show_dir(dir_path):\n",
    "    for fd in os.listdir(dir_path):\n",
    "        # 构建全路径\n",
    "        fd_path = dir_path + \"/\" + fd\n",
    "        print(\"全路径：\", fd_path)\n",
    "        if os.path.isdir(fd_path):\n",
    "            # 重点在这里，函数里面再次使用这个函数\n",
    "            show_dir(fd_path) # 我们称为“递归函数”\n",
    "        \n",
    "show_dir(\"./\")"
   ]
  },
  {
   "cell_type": "code",
   "execution_count": 36,
   "metadata": {},
   "outputs": [
    {
     "name": "stdout",
     "output_type": "stream",
     "text": [
      "word文件： ..//02.Word操作/files/Word_对象说明.docx\n",
      "word文件： ..//02.Word操作/files/Word_读取说明.docx\n",
      "word文件： ..//02.Word操作/files/Word表格和图片.docx\n",
      "word文件： ..//02.Word操作/参考资料/MSO_THEME_COLOR_INDEX.docx\n",
      "word文件： ..//02.Word操作/参考资料/WD_COLOR_INDEX.docx\n",
      "word文件： ..//02.Word操作/参考资料/Word_字符样式.docx\n",
      "word文件： ..//02.Word操作/参考资料/Word_段落样式.docx\n",
      "word文件： ..//02.Word操作/参考资料/Word_表格样式.docx\n",
      "word文件： ..//90.综合案例-01/02_files/Word_名片模版.docx\n",
      "word文件： ..//90.综合案例-01/02_files/Word_名片模版_思考题.docx\n"
     ]
    }
   ],
   "source": [
    "# 实现取 word 文件\n",
    "def show_dir(dir_path):\n",
    "    for fd in os.listdir(dir_path):\n",
    "        # 构建全路径\n",
    "        fd_path = dir_path + \"/\" + fd\n",
    "        if fd.endswith(\"docx\"):\n",
    "            print(\"word文件：\", fd_path)\n",
    "        if os.path.isdir(fd_path):\n",
    "            # 重点在这里，函数里面再次使用这个函数\n",
    "            show_dir(fd_path) # 我们称为“递归函数”\n",
    "        \n",
    "show_dir(\"../\")"
   ]
  },
  {
   "cell_type": "code",
   "execution_count": 37,
   "metadata": {},
   "outputs": [
    {
     "name": "stdout",
     "output_type": "stream",
     "text": [
      "[]\n"
     ]
    }
   ],
   "source": [
    "def get_docx_files(dir_path):\n",
    "    docx_files = []\n",
    "    for fd in os.listdir(dir_path):\n",
    "        # 构建全路径\n",
    "        fd_path = dir_path + \"/\" + fd\n",
    "        if fd.endswith(\"docx\"):\n",
    "            docx_files.append(fd_path)\n",
    "        if os.path.isdir(fd_path):\n",
    "            # 重点在这里，函数里面再次使用这个函数\n",
    "            get_docx_files(fd_path) # 我们称为“递归函数”\n",
    "    return docx_files\n",
    "    \n",
    "print(get_docx_files(\"../\"))"
   ]
  },
  {
   "cell_type": "code",
   "execution_count": 38,
   "metadata": {},
   "outputs": [
    {
     "name": "stdout",
     "output_type": "stream",
     "text": [
      "['..//02.Word操作/files/Word_对象说明.docx', '..//02.Word操作/files/Word_读取说明.docx', '..//02.Word操作/files/Word表格和图片.docx', '..//02.Word操作/参考资料/MSO_THEME_COLOR_INDEX.docx', '..//02.Word操作/参考资料/WD_COLOR_INDEX.docx', '..//02.Word操作/参考资料/Word_字符样式.docx', '..//02.Word操作/参考资料/Word_段落样式.docx', '..//02.Word操作/参考资料/Word_表格样式.docx', '..//90.综合案例-01/02_files/Word_名片模版.docx', '..//90.综合案例-01/02_files/Word_名片模版_思考题.docx']\n"
     ]
    }
   ],
   "source": [
    "# 把 docx_files 列表拿到函数外面就可以了\n",
    "docx_files = []\n",
    "def get_docx_files(dir_path):\n",
    "    for fd in os.listdir(dir_path):\n",
    "        # 构建全路径\n",
    "        fd_path = dir_path + \"/\" + fd\n",
    "        if fd.endswith(\"docx\"):\n",
    "            docx_files.append(fd_path)\n",
    "        if os.path.isdir(fd_path):\n",
    "            # 重点在这里，函数里面再次使用这个函数\n",
    "            get_docx_files(fd_path) # 我们称为“递归函数”\n",
    "    return docx_files\n",
    "    \n",
    "print(get_docx_files(\"../\"))"
   ]
  },
  {
   "cell_type": "markdown",
   "metadata": {},
   "source": [
    "# 变量的作用域\n"
   ]
  },
  {
   "cell_type": "code",
   "execution_count": null,
   "metadata": {},
   "outputs": [],
   "source": []
  },
  {
   "cell_type": "code",
   "execution_count": 46,
   "metadata": {},
   "outputs": [
    {
     "name": "stdout",
     "output_type": "stream",
     "text": [
      "['..//02.Word操作/files/Word_对象说明.docx', '..//02.Word操作/files/Word_读取说明.docx', '..//02.Word操作/files/Word表格和图片.docx', '..//02.Word操作/参考资料/MSO_THEME_COLOR_INDEX.docx', '..//02.Word操作/参考资料/WD_COLOR_INDEX.docx', '..//02.Word操作/参考资料/Word_字符样式.docx', '..//02.Word操作/参考资料/Word_段落样式.docx', '..//02.Word操作/参考资料/Word_表格样式.docx', '..//90.综合案例-01/02_files/Word_名片模版.docx', '..//90.综合案例-01/02_files/Word_名片模版_思考题.docx']\n"
     ]
    }
   ],
   "source": [
    "# 因为全局变量也有一些缺点（以后再讲解）\n",
    "# 如果我们不希望使用全局变量，以下写法会比较合适\n",
    "def get_docx_files(dir_path, docx_files=[]):\n",
    "    for fd in os.listdir(dir_path):\n",
    "        # 构建全路径\n",
    "        fd_path = dir_path + \"/\" + fd\n",
    "        if fd.endswith(\"docx\"):\n",
    "            docx_files.append(fd_path)\n",
    "        if os.path.isdir(fd_path):\n",
    "            # 重点在这里，函数里面再次使用这个函数\n",
    "            get_docx_files(fd_path, docx_files) # 我们称为“递归函数”\n",
    "    return docx_files\n",
    "\n",
    "print(get_docx_files(\"../\"))"
   ]
  },
  {
   "cell_type": "code",
   "execution_count": 56,
   "metadata": {},
   "outputs": [
    {
     "name": "stdout",
     "output_type": "stream",
     "text": [
      "['..//02.Word操作/files/Word_对象说明.docx', '..//02.Word操作/files/Word_读取说明.docx', '..//02.Word操作/files/Word表格和图片.docx', '..//02.Word操作/参考资料/MSO_THEME_COLOR_INDEX.docx', '..//02.Word操作/参考资料/WD_COLOR_INDEX.docx', '..//02.Word操作/参考资料/Word_字符样式.docx', '..//02.Word操作/参考资料/Word_段落样式.docx', '..//02.Word操作/参考资料/Word_表格样式.docx', '..//90.综合案例-01/02_files/Word_名片模版.docx', '..//90.综合案例-01/02_files/Word_名片模版_思考题.docx']\n"
     ]
    }
   ],
   "source": [
    "def get_files(dir_path, file_ext_name, files=[]):\n",
    "    for fd in os.listdir(dir_path):\n",
    "        # 构建全路径\n",
    "        fd_path = dir_path + \"/\" + fd\n",
    "        if fd.endswith(file_ext_name):\n",
    "            files.append(fd_path)\n",
    "        if os.path.isdir(fd_path):\n",
    "            # 重点在这里，函数里面再次使用这个函数\n",
    "            get_files(fd_path, file_ext_name, files) # 我们称为“递归函数”\n",
    "    return files\n",
    "\n",
    "print(get_files(\"../\",\"docx\"))\n",
    "# print(get_files(\"../\",\"jpg\"))"
   ]
  },
  {
   "cell_type": "code",
   "execution_count": 57,
   "metadata": {},
   "outputs": [
    {
     "name": "stdout",
     "output_type": "stream",
     "text": [
      "['..//01.Excel操作/images/Excel_Layout.jpg', '..//01.Excel操作/images/Excel单元格图案.jpg', '..//01.Excel操作/images/Excel单元格字体.jpg', '..//01.Excel操作/images/Excel单元格对齐.jpg', '..//01.Excel操作/images/Excel单元格边框.jpg', '..//02.Word操作/files/Word_对象说明.docx', '..//02.Word操作/files/Word_读取说明.docx', '..//02.Word操作/files/Word表格和图片.docx', '..//02.Word操作/参考资料/MSO_THEME_COLOR_INDEX.docx', '..//02.Word操作/参考资料/WD_COLOR_INDEX.docx', '..//02.Word操作/参考资料/Word_字符样式.docx', '..//02.Word操作/参考资料/Word_段落样式.docx', '..//02.Word操作/参考资料/Word_表格样式.docx', '..//05.邮件自动化/images/开启网易SMTP服务.jpg', '..//05.邮件自动化/images/网易SMTP开启01.jpg', '..//05.邮件自动化/images/网易SMTP开启02.jpg', '..//09.图片处理/images/douyin-6d95651c.jpg', '..//09.图片处理/images/douyin.jpg', '..//09.图片处理/images/douyin_x.jpg', '..//09.图片处理/images/py_logo1.jpg', '..//90.综合案例-01/02_files/Word_名片模版.docx', '..//90.综合案例-01/02_files/Word_名片模版_思考题.docx']\n"
     ]
    }
   ],
   "source": [
    "def get_files(dir_path, ext_names, files=[]):\n",
    "    for fd in os.listdir(dir_path):\n",
    "        # 构建全路径\n",
    "        fd_path = dir_path + \"/\" + fd\n",
    "        for ext_name in ext_names:\n",
    "            if fd.endswith(ext_name):\n",
    "                files.append(fd_path)\n",
    "        if os.path.isdir(fd_path):\n",
    "            # 重点在这里，函数里面再次使用这个函数\n",
    "            get_files(fd_path, ext_names, files) # 我们称为“递归函数”\n",
    "    return files\n",
    "\n",
    "print(get_files(\"../\",[\"docx\",\"jpg\"]))"
   ]
  },
  {
   "cell_type": "code",
   "execution_count": null,
   "metadata": {},
   "outputs": [],
   "source": []
  }
 ],
 "metadata": {
  "kernelspec": {
   "display_name": "Python 3",
   "language": "python",
   "name": "python3"
  },
  "language_info": {
   "codemirror_mode": {
    "name": "ipython",
    "version": 3
   },
   "file_extension": ".py",
   "mimetype": "text/x-python",
   "name": "python",
   "nbconvert_exporter": "python",
   "pygments_lexer": "ipython3",
   "version": "3.7.4"
  }
 },
 "nbformat": 4,
 "nbformat_minor": 2
}
