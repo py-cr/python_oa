{
 "cells": [
  {
   "cell_type": "markdown",
   "metadata": {
    "pycharm": {
     "name": "#%% md\n"
    }
   },
   "source": [
    "# 全景视频的制作\n",
    "\n",
    "<table width=\"100%\" border=\"0\">\n",
    "<tr>\n",
    "  <td valign=\"top\"  width=\"40%\">\n",
    "    <img src=\"images/风景全景图.jpg\" align=\"left\"/><br/><br/>\n",
    "      <img src=\"images/trim_audio.jpg\" width=\"50%\" align=\"center\">\n",
    "  </td>\n",
    "  <td valign=\"top\"  width=\"10%\">\n",
    "    <img src=\"images/arrow.png\" align=\"left\"/>\n",
    "  </td>\n",
    "  <td valign=\"top\"  width=\"50%\">\n",
    "    <img src=\"images/风景全景图.jpg\" align=\"right\"/>\n",
    "  </td>\n",
    "</tr>\n",
    "</table>\n",
    "\n",
    "<font style=\"color:red;font-size:20px\">原理就是：一张全景图片 + 音频 =  全景视频</font>\n",
    "\n"
   ]
  },
  {
   "cell_type": "markdown",
   "source": [
    "## 1、准备一张全景图片和一首MP3"
   ],
   "metadata": {
    "collapsed": false,
    "pycharm": {
     "name": "#%% md\n"
    }
   }
  },
  {
   "cell_type": "code",
   "execution_count": null,
   "outputs": [],
   "source": [
    "from IPython.display import Image, Audio\n",
    "from av_utils import show_img\n",
    "import os\n",
    "\n",
    "image_file = \"images/风景全景图.jpg\"\n",
    "print(\"原始图片路径：\", os.path.abspath(image_file))\n",
    "show_img(image_file)\n",
    "\n",
    "\n",
    "mp3_file = \"audio/雅致茶音.mp3\"  # 原始音频文件\n",
    "print(\"原始音频文件：\", os.path.abspath(mp3_file))\n",
    "# 听原始音频，找到精彩开始和结束的时间点\n",
    "Audio(mp3_file, autoplay=True)   "
   ],
   "metadata": {
    "collapsed": false,
    "pycharm": {
     "name": "#%%\n"
    }
   }
  },
  {
   "cell_type": "markdown",
   "source": [
    "## 2、制作全景视频"
   ],
   "metadata": {
    "collapsed": false,
    "pycharm": {
     "name": "#%% md\n"
    }
   }
  },
  {
   "cell_type": "code",
   "execution_count": null,
   "outputs": [],
   "source": [
    "from IPython.display import Video\n",
    "from av_utils import ia_to_mp4\n",
    "\n",
    "output_file =  'output/风景全景视频.mp4'\n",
    "\n",
    "print(\"输入图片路径：\", os.path.abspath(image_file))\n",
    "print(\"输入音频路径：\", os.path.abspath(mp3_file))\n",
    "print(\"     ↓↓↓\")\n",
    "print(\"全景视频路径：\", os.path.abspath(output_file))\n",
    "\n",
    "ia_to_mp4(image_file, mp3_file, output_file)\n",
    "\n",
    "Video(output_file, width=320, height=184, embed=True)   "
   ],
   "metadata": {
    "collapsed": false,
    "pycharm": {
     "name": "#%%\n"
    }
   }
  },
  {
   "cell_type": "markdown",
   "source": [
    "## 3、用支持全景的软件查看\n",
    "\n",
    "<font style=\"font-size:20px;\">比如：PotPlayer、utovr、GoPro VR Player、Insta360 Player</font>\n",
    "<br><br>\n",
    "<font style=\"font-size:20px;\" color=\"red\">请搜索关键字“cubemap 全景”，了解更多\n",
    "    </font>"
   ],
   "metadata": {
    "collapsed": false,
    "pycharm": {
     "name": "#%% md\n"
    }
   }
  },
  {
   "cell_type": "code",
   "execution_count": null,
   "outputs": [],
   "source": [
    "## 4、上传到您的视频空间\n",
    "\n",
    "<font style=\"font-size:20px;\">支持VR短视频平台有：抖音、720云、快手等等</font>"
   ],
   "metadata": {
    "collapsed": false,
    "pycharm": {
     "name": "#%%\n"
    }
   }
  },
  {
   "cell_type": "code",
   "execution_count": null,
   "outputs": [],
   "source": [],
   "metadata": {
    "collapsed": false,
    "pycharm": {
     "name": "#%%\n"
    }
   }
  }
 ],
 "metadata": {
  "kernelspec": {
   "display_name": "Python 3 (ipykernel)",
   "language": "python",
   "name": "python3"
  },
  "language_info": {
   "codemirror_mode": {
    "name": "ipython",
    "version": 3
   },
   "file_extension": ".py",
   "mimetype": "text/x-python",
   "name": "python",
   "nbconvert_exporter": "python",
   "pygments_lexer": "ipython3",
   "version": "3.9.13"
  }
 },
 "nbformat": 4,
 "nbformat_minor": 1
}