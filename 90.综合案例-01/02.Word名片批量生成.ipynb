{
 "cells": [
  {
   "cell_type": "code",
   "execution_count": 1,
   "metadata": {},
   "outputs": [],
   "source": [
    "import docx\n",
    "import copy # 复制模板用\n",
    "import xlrd"
   ]
  },
  {
   "cell_type": "markdown",
   "metadata": {},
   "source": [
    "# 读取名片数据函数"
   ]
  },
  {
   "cell_type": "code",
   "execution_count": null,
   "metadata": {},
   "outputs": [],
   "source": [
    "def get_namecard_data(xls):\n",
    "    \"\"\"\n",
    "    定义函数：从Excel文件中读取名片数据\n",
    "    :param xls: Excel 文件\n",
    "    :return: 返回了 2 组数据\n",
    "             1）名片字段列表：['姓名', '职位', '部门', '电话', '手机', '邮箱']\n",
    "             2）名片信息列表（列表中的列表）\n",
    "             [['张三', '开发工程师', '技术部'..],['李四', '业务经理', ...]]\n",
    "    \"\"\"\n",
    "    # 打开文件\n",
    "    workbook = xlrd.open_workbook(xls)\n",
    "    # 获取第一个工作表，从0开始\n",
    "    sheet = workbook.sheet_by_index(0)\n",
    "    # 名片信息列表（列表中的列表）\n",
    "    namecard_infos_list = []\n",
    "    # 从 0 开始\n",
    "    field_list = sheet.row_values(0)\n",
    "    for row_index in range(1, sheet.nrows):\n",
    "        namecard_infos_list.append(sheet.row_values(row_index))\n",
    "    # 返回了 2 组数据\n",
    "    #   1）名片字段列表：['姓名', '职位', '部门', '电话', '手机', '邮箱']\n",
    "    #   2）名片信息列表（列表中的列表）\n",
    "    #      [['张三', '开发工程师', '技术部'..],['李四', '业务经理', ...]]\n",
    "    return field_list, namecard_infos_list"
   ]
  },
  {
   "cell_type": "markdown",
   "metadata": {},
   "source": [
    "# Word的3个对象（Document 、Paragraph、Run）"
   ]
  },
  {
   "cell_type": "markdown",
   "metadata": {},
   "source": [
    "### 1、Document 对象表示整个文档\n",
    "### 2、Paragrapha 对象表示段落（在文档中，每一次回车会产生新段落）\n",
    "### 3、Run 对象表示相同样式的文本延续\n",
    "### Document 对象包含一个 Paragrapha 对象的列表，Paragraph 对象包含一个 Run 对象的列表。"
   ]
  },
  {
   "cell_type": "markdown",
   "metadata": {},
   "source": [
    "# 处理名片数据的核心函数"
   ]
  },
  {
   "cell_type": "code",
   "execution_count": null,
   "metadata": {},
   "outputs": [],
   "source": [
    "def replace_doc(document, namecard_values):\n",
    "    \"\"\"\n",
    "    替换文档中的 [姓名] [职位] 为 指定的名片信息\n",
    "    :param document: 包含 [姓名] [职位]...的文档对象\n",
    "    :param namecard_values: 指定的名片信息（列表），索引的顺序 和 namecard_field_list 一致\n",
    "    :return:\n",
    "    \"\"\"\n",
    "\n",
    "    def replace_values(inline):\n",
    "        \"\"\"\n",
    "        用于替换 inline 对象中的值，比如：[姓名] => 张三\n",
    "        (**注意** 在 replace_doc 函数中 创建的函数，只能在 replace_doc函数 中使用)\n",
    "        :param inline:\n",
    "        :return:\n",
    "        \"\"\"\n",
    "        # 循环遍历字段名（在循环中注释，字段名以“姓名”为例）\n",
    "        for field_name in namecard_field_list:\n",
    "            # field_name=姓名 ， field_var=[姓名]\n",
    "            field_var = \"[%s]\" % field_name\n",
    "            # 判断条件 inline.text 中是否包含 field_var（[姓名]） 字符串，有才进行替换，否则什么都不做\n",
    "            if field_var in inline.text:\n",
    "                # 获取字段的索引号\n",
    "                field_index = namecard_field_list.index(field_name)\n",
    "                # 获取“姓名”字段的文本内容，比如：text = 张三\n",
    "                text = namecard_values[field_index]\n",
    "                # 将 inline.text 中“[姓名]”替换为“张三”后，再赋值给 inline.text\n",
    "                inline.text = inline.text.replace(field_var, text)\n",
    "\n",
    "    # 循环遍历段落\n",
    "    for paragraph in document.paragraphs:\n",
    "        # 历获取段落中的文字\n",
    "        text = paragraph.text\n",
    "        # 判断段落中的文字中是否包含 [ 并且也包含 ] ,如果为 True，则认为需要替换\n",
    "        if (\"[\" in text) and (']' in text):\n",
    "            # Paragraph 对象包含一个 Run 对象的列表\n",
    "            # Run 对象表示相同样式的文本延续\n",
    "            inlines = paragraph.runs\n",
    "            # 相同样式的文本延续\n",
    "            for inline in inlines:\n",
    "                # 用于替换 inline 对象中的值，比如：[姓名] => 张三\n",
    "                replace_values(inline)\n",
    "\n",
    "    return document"
   ]
  },
  {
   "cell_type": "markdown",
   "metadata": {},
   "source": [
    "# 运行名片批量生成"
   ]
  },
  {
   "cell_type": "code",
   "execution_count": 7,
   "metadata": {},
   "outputs": [
    {
     "name": "stdout",
     "output_type": "stream",
     "text": [
      "['姓名', '职位', '部门', '电话', '手机', '邮箱']\n",
      "[['张三', '开发工程师', '技术部', '87646000', '13399999999', 'zhangsan@abcde.com.cn'], ['李四', '业务经理', '业务部', '87646001', '15600000000', 'lisi@abcde.com.cn']]\n"
     ]
    }
   ],
   "source": [
    "# 为了防止课程产生的文件过多，不方便文件的管理\n",
    "# 本课程相关的文件都放到 files_dir 指定的目录下\n",
    "files_dir = \"02_files\"\n",
    "\n",
    "# 存放名片的字段（变量，需要修改的）\n",
    "namecard_field_list, namecard_infos_list = get_namecard_data(f\"./{files_dir}/人员名片信息.xlsx\")\n",
    "# 名片字段列表\n",
    "print(namecard_field_list)\n",
    "# 名片信息列表（列表中的列表）\n",
    "print(namecard_infos_list)\n",
    "\n",
    "# 获取文档对象（作为名片模版）\n",
    "name_card_tpl = docx.Document(f\"./{files_dir}/Word_名片模版.docx\")\n",
    "\n",
    "# 循环遍历名片信息列表（多个人员的名片数据）\n",
    "for namecard_info in namecard_infos_list:\n",
    "    # 复制一份模板，防止原始的模板被替换了\n",
    "    name_card_doc = copy.deepcopy(name_card_tpl)\n",
    "    # 开始替换文档内容\n",
    "    replace_doc(name_card_doc, namecard_info)\n",
    "    # 取人员姓名\n",
    "    staff_name = namecard_info[0]\n",
    "    name_card_doc.save(f'./{files_dir}/{staff_name}的名片.docx')\n"
   ]
  },
  {
   "cell_type": "markdown",
   "metadata": {},
   "source": [
    "# Python总结"
   ]
  },
  {
   "cell_type": "code",
   "execution_count": null,
   "metadata": {},
   "outputs": [],
   "source": []
  },
  {
   "cell_type": "markdown",
   "metadata": {},
   "source": [
    "# 思考题"
   ]
  },
  {
   "cell_type": "markdown",
   "metadata": {},
   "source": [
    "看是否可以将2个函数放到一个 .py 文件中，使得代码更简洁？"
   ]
  },
  {
   "cell_type": "code",
   "execution_count": null,
   "metadata": {},
   "outputs": [],
   "source": []
  }
 ],
 "metadata": {
  "kernelspec": {
   "display_name": "Python 3",
   "language": "python",
   "name": "python3"
  },
  "language_info": {
   "codemirror_mode": {
    "name": "ipython",
    "version": 3
   },
   "file_extension": ".py",
   "mimetype": "text/x-python",
   "name": "python",
   "nbconvert_exporter": "python",
   "pygments_lexer": "ipython3",
   "version": "3.7.4"
  }
 },
 "nbformat": 4,
 "nbformat_minor": 2
}
