{
 "cells": [
  {
   "cell_type": "markdown",
   "metadata": {},
   "source": [
    "# 案例要求\n",
    "\n",
    "\n",
    "根据 “人员名片信息.xlsx”中所有的人员，按照“名片模板.docx”文件格式生成的名片"
   ]
  },
  {
   "cell_type": "markdown",
   "metadata": {},
   "source": [
    "<table width=\"100%\" border=\"0\">\n",
    "<tr>\n",
    "  <td valign=\"top\" style=\"vertical-align:top; text-align:left;background-color:#ddffdd;\">\n",
    " \n",
    " **<font color=\"blue\" size=\"3px\"> 名片模板.docx（Word）</font>**\n",
    " \n",
    "<img src=\"images/名片模板.png\" align=\"center\" style=\"width:40%\"/>\n",
    "  </td>\n",
    "  </tr>\n",
    "    <tr>\n",
    "  <td style=\"vertical-align:top; text-align:left;background-color:#ddffdd\">\n",
    "\n",
    "**<font color=\"blue\" size=\"3px\"> 人员名片信息.xlsx（Excel）</font>**\n",
    " \n",
    "<img src=\"images/人员名片信息.png\" align=\"center\"/>\n",
    "\n",
    "  </td>\n",
    " </tr>\n",
    "</table>"
   ]
  },
  {
   "cell_type": "code",
   "execution_count": null,
   "metadata": {},
   "outputs": [],
   "source": [
    "# 导入工具包\n",
    "import docx\n",
    "from docx import Document\n",
    "import copy # 复制模板用\n",
    "import xlrd"
   ]
  },
  {
   "cell_type": "code",
   "execution_count": null,
   "metadata": {},
   "outputs": [],
   "source": [
    "# 为了防止课程产生的文件过多，不方便文件的管理\n",
    "# 本课程相关的文件都放到 files_dir 指定的目录下\n",
    "files_dir = \"02_files\""
   ]
  },
  {
   "cell_type": "markdown",
   "metadata": {},
   "source": [
    "# 读取“人员名片信息.xlsx”函数"
   ]
  },
  {
   "cell_type": "code",
   "execution_count": null,
   "metadata": {},
   "outputs": [],
   "source": [
    "def get_namecard_data(xls):\n",
    "    \"\"\"\n",
    "    定义函数：从Excel文件中读取名片数据\n",
    "    :param xls: Excel 文件\n",
    "    :return: 返回了 2 组数据\n",
    "             1）名片字段列表：['姓名', '职位', '部门', '电话', '手机', '邮箱']\n",
    "             2）名片信息列表（列表中的列表）\n",
    "             [['张三', '开发工程师', '技术部'..],['李四', '业务经理', ...]]\n",
    "    \"\"\"\n",
    "    # 打开文件\n",
    "    workbook = xlrd.open_workbook(xls)\n",
    "    # 获取第一个工作表，从0开始\n",
    "    sheet = workbook.sheet_by_index(0)\n",
    "    # 名片信息列表（列表中的列表）\n",
    "    namecard_infos_list = []\n",
    "    # 从 0 开始\n",
    "    field_list = sheet.row_values(0)\n",
    "    for row_index in range(1, sheet.nrows):\n",
    "        namecard_infos_list.append(sheet.row_values(row_index))\n",
    "    # 返回了 2 组数据\n",
    "    #   1）名片字段列表：['姓名', '职位', '部门', '电话', '手机', '邮箱']\n",
    "    #   2）名片信息列表（列表中的列表）\n",
    "    #      [['张三', '开发工程师', '技术部'..],['李四', '业务经理', ...]]\n",
    "    return field_list, namecard_infos_list"
   ]
  },
  {
   "cell_type": "code",
   "execution_count": null,
   "metadata": {},
   "outputs": [],
   "source": [
    "staff_namecard_info_file = f\"./{files_dir}/人员名片信息.xlsx\"\n",
    "\n",
    "# 获取的人员名片信息有2组返回值，这里我们只赋值给一个变量\n",
    "namecards = get_namecard_data(staff_namecard_info_file)\n",
    "print(namecards) # 格式为：( [ ....],[....] ) 最外面是圆括号，是因为返回了2个参数"
   ]
  },
  {
   "cell_type": "code",
   "execution_count": null,
   "metadata": {},
   "outputs": [],
   "source": [
    "# 获取的人员名片信息有2组返回值，我们建议赋值给2个变量，主要是方便操作\n",
    "namecard_field_list, namecard_infos_list = get_namecard_data(staff_namecard_info_file)\n",
    "print(\"名片字段：\",namecard_field_list)\n",
    "print(\"人员名片信息：\",namecard_infos_list)"
   ]
  },
  {
   "cell_type": "code",
   "execution_count": null,
   "metadata": {},
   "outputs": [],
   "source": [
    "from docx_ext import read_docx\n",
    "# 查看一下模版中的数据\n",
    "docx_template_file = f\"./{files_dir}/Word_名片模版.docx\"\n",
    "read_docx(docx_template_file)"
   ]
  },
  {
   "cell_type": "markdown",
   "metadata": {},
   "source": [
    "# 为了方便代码的阅读，建立几个函数"
   ]
  },
  {
   "cell_type": "markdown",
   "metadata": {},
   "source": [
    "## 字典语法"
   ]
  },
  {
   "cell_type": "code",
   "execution_count": null,
   "metadata": {},
   "outputs": [],
   "source": [
    "# 定义一个空字典\n",
    "trans = {}  #  或者 trans = dict()\n",
    "print(trans)\n",
    "\n",
    "# 中英文翻译\n",
    "trans[\"hello\"] = \"你好\"\n",
    "trans[\"bye\"] = \"再见\"\n",
    "\n",
    "print(trans)"
   ]
  },
  {
   "cell_type": "markdown",
   "metadata": {},
   "source": [
    "## 新增函数：将替换列表改为替换字典"
   ]
  },
  {
   "cell_type": "code",
   "execution_count": null,
   "metadata": {},
   "outputs": [],
   "source": [
    "def gen_replace_dict(namecard_infos):\n",
    "    \"\"\"\n",
    "    生成替换字典\n",
    "    \"\"\"\n",
    "    replace_dict = {} # 创建一个空字典\n",
    "    for idx, namecard_info in enumerate(namecard_infos):\n",
    "        field = namecard_field_list[idx]\n",
    "        param = \"[%s]\" % field\n",
    "        replace_dict[param] = namecard_info\n",
    "    return replace_dict"
   ]
  },
  {
   "cell_type": "markdown",
   "metadata": {},
   "source": [
    "## 测试函数（gen_replace_dict）"
   ]
  },
  {
   "cell_type": "code",
   "execution_count": null,
   "metadata": {},
   "outputs": [],
   "source": [
    "namecards = ['刘德泽', '开发工程师', '技术部', '87646000', '13399999999', 'ldz@abcde.com.cn']\n",
    "replace_dict = gen_replace_dict(namecards)\n",
    "print(\"字段信息：\",namecard_field_list)\n",
    "print(\"名片信息：\",namecards)\n",
    "print(\"字典信息：\",replace_dict)"
   ]
  },
  {
   "cell_type": "markdown",
   "metadata": {},
   "source": [
    "## 新增函数：替换文字块内容"
   ]
  },
  {
   "cell_type": "code",
   "execution_count": null,
   "metadata": {},
   "outputs": [],
   "source": [
    "def replace_run(run, replace_dict):\n",
    "    \"\"\"\n",
    "    用于替换 run 对象中的值，比如：[姓名] => 张三\n",
    "    (**注意** 在 replace_doc 函数中 创建的函数，只能在 replace_doc函数 中使用)\n",
    "    :param run: 文字块\n",
    "    :return:\n",
    "    \"\"\"\n",
    "    for key in replace_dict.keys():\n",
    "        # print(key, replace_dict[key])\n",
    "        if key in run.text:\n",
    "            run.text = run.text.replace(key, replace_dict[key])"
   ]
  },
  {
   "cell_type": "markdown",
   "metadata": {},
   "source": [
    "## 测试函数（replace_run）"
   ]
  },
  {
   "cell_type": "code",
   "execution_count": null,
   "metadata": {},
   "outputs": [],
   "source": [
    "doc = Document()\n",
    "print(\"替换字典 =>\",replace_dict)\n",
    "p1 = doc.add_paragraph('姓名：[姓名]')\n",
    "print(\"段落替换前 =>\",p1.text)\n",
    "replace_run(p1.runs[0],replace_dict)\n",
    "print(\"段落替换后 =>\",p1.text)"
   ]
  },
  {
   "cell_type": "markdown",
   "metadata": {},
   "source": [
    "## 新增函数：遍历替换文档的段落"
   ]
  },
  {
   "cell_type": "code",
   "execution_count": null,
   "metadata": {},
   "outputs": [],
   "source": [
    "def replace_doc(document, replace_dict):\n",
    "    \"\"\"\n",
    "    替换文档中的 [姓名] [职位] 为 指定的名片信息\n",
    "    :param document: 包含 [姓名] [职位]...的文档模板对象\n",
    "    :param replace_dict: \n",
    "    :return:\n",
    "    \"\"\"\n",
    "    # 循环遍历段落\n",
    "    for paragraph in document.paragraphs:\n",
    "        for run in paragraph.runs:\n",
    "            replace_run(run, replace_dict)\n",
    "\n",
    "    return document"
   ]
  },
  {
   "cell_type": "markdown",
   "metadata": {},
   "source": [
    "## 函数准备好了，开始名片批量生成"
   ]
  },
  {
   "cell_type": "code",
   "execution_count": null,
   "metadata": {},
   "outputs": [],
   "source": [
    "# 获取文档对象（作为名片模版）\n",
    "name_card_tpl = docx.Document(docx_template_file)\n",
    "\n",
    "# 循环遍历名片信息列表（多个人员的名片数据）\n",
    "for namecard_info in namecard_infos_list:\n",
    "    # 每次都要复制一份模板，防止原始的模板被替换了\n",
    "    name_card_doc = copy.deepcopy(name_card_tpl)\n",
    "    # 开始替换文档内容（参数分别为：docx模板副本 和 当前员工的名片数据）\n",
    "    # namecard_info=['刘德泽', '开发工程师', '技术部', '87646000', '13399999999', 'ldz@abcde.com.cn']\n",
    "#     replace_doc(name_card_doc, namecard_info)\n",
    "    replace_dict = gen_replace_dict(namecard_info)\n",
    "    replace_doc(name_card_doc,replace_dict )\n",
    "    # 获取人员姓名\n",
    "    staff_name = namecard_info[0]\n",
    "    name_card_doc.save(f'./{files_dir}/{staff_name}的名片.docx')"
   ]
  },
  {
   "cell_type": "markdown",
   "metadata": {},
   "source": [
    "# Python总结"
   ]
  },
  {
   "cell_type": "markdown",
   "metadata": {},
   "source": [
    "1、字典的用法\n",
    "\n",
    "2、创建函数可以提高代码的阅读性"
   ]
  },
  {
   "cell_type": "markdown",
   "metadata": {},
   "source": [
    "# 思考题"
   ]
  },
  {
   "cell_type": "markdown",
   "metadata": {},
   "source": [
    "万一，模板中一个段落中的内容把[姓名]放在两个文字块中，怎么办？"
   ]
  },
  {
   "cell_type": "code",
   "execution_count": null,
   "metadata": {},
   "outputs": [],
   "source": [
    "# 比如这个模板代码"
   ]
  },
  {
   "cell_type": "markdown",
   "metadata": {},
   "source": [
    "这个思考题有点难度，能解决的朋友，已经非常厉害了，不能解决，思考也不是坏事，继续努力。"
   ]
  }
 ],
 "metadata": {
  "kernelspec": {
   "display_name": "Python 3",
   "language": "python",
   "name": "python3"
  },
  "language_info": {
   "codemirror_mode": {
    "name": "ipython",
    "version": 3
   },
   "file_extension": ".py",
   "mimetype": "text/x-python",
   "name": "python",
   "nbconvert_exporter": "python",
   "pygments_lexer": "ipython3",
   "version": "3.7.4"
  }
 },
 "nbformat": 4,
 "nbformat_minor": 2
}
