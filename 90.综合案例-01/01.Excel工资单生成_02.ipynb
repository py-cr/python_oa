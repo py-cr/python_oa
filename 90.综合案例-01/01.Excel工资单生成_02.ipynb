{
 "cells": [
  {
   "cell_type": "code",
   "execution_count": 7,
   "metadata": {},
   "outputs": [],
   "source": [
    "# 如果本地没有安装工具包，请去掉“#”，再执行\n",
    "# !pip install -i https://mirrors.aliyun.com/pypi/simple/ xlwt"
   ]
  },
  {
   "cell_type": "markdown",
   "metadata": {},
   "source": [
    "**<font color=blue>Excel颜色索引对照表</font>**<br/>\n",
    "<img src=\"images/Excel颜色对照表.png\" align=\"left\"></img>"
   ]
  },
  {
   "cell_type": "code",
   "execution_count": 11,
   "metadata": {},
   "outputs": [
    {
     "name": "stdout",
     "output_type": "stream",
     "text": [
      "['月份', '部门', '姓名', '出勤工资', '绩效奖金', '税前补发', '生活补助', '应发', '养老', '医疗', '失业', '计税工资', '个人所得税', '扣款合计', '实发']\n"
     ]
    }
   ],
   "source": [
    "# 导入Excel读写工具包\n",
    "import xlrd\n",
    "import xlwt\n",
    "\n",
    "# 从（from）本地 xlwt_styles.py（.py扩展名省略）文件中，导入（import）创建样式的函数（create_style）\n",
    "from xlwt_styles import create_style\n",
    "\n",
    "# 定义两个变量（xls_filename_rd、xls_filename_wt）\n",
    "xls_filename_rd = \"./files/Excel_工资单明细.xls\" # 读取的 Excel 文件名\n",
    "xls_filename_wt = \"./files/Excel_员工工资单_02.xls\" # 新建的 Excel 文件名\n",
    "# *******************************\n",
    "# 命名最好要有意义，但不是强制，只有符合变量命名规则即可。\n",
    "# xls:Excel扩展名  filename:文件名  rd:read读取  wt:write写入\n",
    "# *******************************\n",
    "\n",
    "# 读取 Excel（xls_filename_rd 变量刚才已经定义），得到工作簿，赋值给变量 workbook_rd\n",
    "workbook_rd = xlrd.open_workbook(xls_filename_rd)\n",
    "\n",
    "# 获取第一个工作表，赋值给变量 sheet_rd\n",
    "sheet_rd = workbook_rd.sheet_by_index(0)\n",
    "\n",
    "# 获取工作表中表格的所有字段（第一行是字段名），记住后面会用到\n",
    "field_names = sheet_rd.row_values(0)\n",
    "print(field_names)  # 打印一下看看字段名"
   ]
  },
  {
   "cell_type": "code",
   "execution_count": 12,
   "metadata": {},
   "outputs": [],
   "source": [
    "# 创建两个“空”列表变量\n",
    "staff_names = [] # 员工姓名列表\n",
    "staff_values_list = [] # 员工数据明细列表（这个就是列表中的列表）\n",
    "\n",
    "# 因为第一行（索引=0）是字段名，所以从第二行（索引=1）开始读数据\n",
    "for row_index in range(1, sheet_rd.nrows):\n",
    "    values = sheet_rd.row_values(row_index)  # 获取员工的数据列表\n",
    "    # print(values)           # 可以删除注释，打印这一行数据列表看看\n",
    "    staff_name = values[2]    # 第三列是姓名\n",
    "    # print(staff_name)       # 可以删除注释，打印一下看看\n",
    "    staff_names.append(staff_name)  # append\n",
    "    staff_values_list.append(values) # 列表中可以再包含列表 [[...],[...]]\n",
    "\n",
    "# 打印读取的员工姓名列表、员工数据明细列表\n",
    "# print(\"员工姓名列表：\",staff_names)           # 可以删除注释，打印一下看看\n",
    "# print(\"员工数据明细列表：\",staff_values_list) # 可以删除注释，打印一下看看"
   ]
  },
  {
   "cell_type": "code",
   "execution_count": 13,
   "metadata": {},
   "outputs": [
    {
     "name": "stdout",
     "output_type": "stream",
     "text": [
      "文件 ./files/Excel_员工工资单_02.xls 生成成功\n"
     ]
    }
   ],
   "source": [
    "# 创建写入工作簿对象\n",
    "workbook_wt = xlwt.Workbook(encoding='utf-8')\n",
    "\n",
    "# 看看要生成的表格样式，共有4个\n",
    "# 合并单元格的样式（背景=草绿，文字颜色=白色，字号=12，水平对齐=居中）\n",
    "merge_style = create_style(back_color=57, font_color=1, font_size=12, horz=2)  # 标题显示用黄色背景图案\n",
    "# 字段样式（背景=草绿，文字颜色=白色，字号=12，水平对齐=靠右）\n",
    "field_style = create_style(back_color=57, font_color=1, font_size=12, horz=3)\n",
    "# 数据值的样式（背景=白色，文字颜色=黑色，字号=12，水平对齐=居中）\n",
    "value_style = create_style(back_color=1, font_color=0, font_size=12, horz=2)\n",
    "# 金额值的样式（背景=白色，文字颜色=黑色，字号=12，水平对齐=靠右，人民币格式）\n",
    "rmb_style = create_style(back_color=1, font_color=0, font_size=12, horz=3, num_format_str=\"￥#,##0.00;￥-#,##0.00\")\n",
    "\n",
    "# 循环遍历每个员工的姓名\n",
    "for staff_index, staff_name in enumerate(staff_names):\n",
    "    # 创建工作表，工作表名就是员工姓名\n",
    "    sheet_wt = workbook_wt.add_sheet(staff_name)\n",
    "\n",
    "    # 获取员工的数据明细\n",
    "    staff_data = staff_values_list[staff_index]\n",
    "    # 遍历字段和数据\n",
    "    for field_index, field_name in enumerate(field_names):\n",
    "        if field_index < 14:\n",
    "            # 第3列为字段名，第4列为数据\n",
    "            sheet_wt.write(r=field_index + 1, c=2, label=field_name, style=field_style)\n",
    "\n",
    "        value = staff_data[field_index]\n",
    "        # 从 0 开始，大于第2个字段，使用RMB货币样式\n",
    "\n",
    "        if field_index > 2:\n",
    "            sheet_wt.write(r=field_index + 1, c=3, label=value, style=rmb_style)\n",
    "        else:\n",
    "            sheet_wt.write(r=field_index + 1, c=3, label=value, style=value_style)\n",
    "\n",
    "    # 设置列宽\n",
    "    sheet_wt.col(1).width = 256 * 12\n",
    "    sheet_wt.col(2).width = 256 * 15\n",
    "    sheet_wt.col(3).width = 256 * 20\n",
    "\n",
    "    sheet_wt.write_merge(r1=1, r2=8, c1=1, c2=1, label=\"收\\n入\", style=merge_style)\n",
    "    sheet_wt.write_merge(r1=9, r2=14, c1=1, c2=1, label=\"扣\\n款\", style=merge_style)\n",
    "    sheet_wt.write_merge(r1=15, r2=15, c1=1, c2=2, label=\"实发\", style=field_style)\n",
    "# import time\n",
    "# time.sleep(2)\n",
    "# 保存\n",
    "workbook_wt.save(xls_filename_wt)\n",
    "\n",
    "print(\"文件 %s 生成成功\" % xls_filename_wt)"
   ]
  }
 ],
 "metadata": {
  "kernelspec": {
   "display_name": "Python 3",
   "language": "python",
   "name": "python3"
  },
  "language_info": {
   "codemirror_mode": {
    "name": "ipython",
    "version": 3
   },
   "file_extension": ".py",
   "mimetype": "text/x-python",
   "name": "python",
   "nbconvert_exporter": "python",
   "pygments_lexer": "ipython3",
   "version": "3.7.4"
  }
 },
 "nbformat": 4,
 "nbformat_minor": 2
}
