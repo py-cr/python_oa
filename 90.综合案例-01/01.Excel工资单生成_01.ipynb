{
 "cells": [
  {
   "cell_type": "code",
   "execution_count": 8,
   "metadata": {},
   "outputs": [],
   "source": [
    "# 如果本地没有安装工具包，请去掉“#”，再执行\n",
    "# !pip install -i https://mirrors.aliyun.com/pypi/simple/ xlwt"
   ]
  },
  {
   "cell_type": "markdown",
   "metadata": {},
   "source": [
    "**<font color=blue>Excel颜色索引对照表</font>**<br/>\n",
    "<img src=\"images/Excel颜色对照表.png\" align=\"left\"></img>"
   ]
  },
  {
   "cell_type": "code",
   "execution_count": 9,
   "metadata": {},
   "outputs": [
    {
     "name": "stdout",
     "output_type": "stream",
     "text": [
      "['月份', '部门', '姓名', '出勤工资', '绩效奖金', '税前补发', '生活补助', '应发', '养老', '医疗', '失业', '计税工资', '个人所得税', '扣款合计', '实发']\n"
     ]
    }
   ],
   "source": [
    "# 导入Excel读写工具包\n",
    "import xlrd\n",
    "import xlwt\n",
    "\n",
    "# 从（from）本地 xlwt_styles.py（.py扩展名省略）文件中，导入（import）创建样式的函数（create_style）\n",
    "from xlwt_styles import create_style\n",
    "\n",
    "# 定义两个变量（xls_filename_rd、xls_filename_wt）\n",
    "xls_filename_rd = \"./files/Excel_工资单明细.xls\" # 读取的 Excel 文件名\n",
    "xls_filename_wt = \"./files/Excel_员工工资单_01.xls\" # 新建的 Excel 文件名\n",
    "# *******************************\n",
    "# 命名最好要有意义，但不是强制，只有符合变量命名规则即可。\n",
    "# xls:Excel扩展名  filename:文件名  rd:read读取  wt:write写入\n",
    "# *******************************\n",
    "\n",
    "# 读取 Excel（xls_filename_rd 变量刚才已经定义），得到工作簿，赋值给变量 workbook_rd\n",
    "workbook_rd = xlrd.open_workbook(xls_filename_rd)\n",
    "\n",
    "# 获取第一个工作表，赋值给变量 sheet_rd\n",
    "sheet_rd = workbook_rd.sheet_by_index(0)\n",
    "\n",
    "# 获取工作表中表格的所有字段（第一行是字段名），记住后面会用到\n",
    "field_names = sheet_rd.row_values(0)\n",
    "print(field_names)  # 打印一下看看字段名"
   ]
  },
  {
   "cell_type": "markdown",
   "metadata": {},
   "source": [
    "# 复习一下什么是列表？"
   ]
  },
  {
   "cell_type": "code",
   "execution_count": 10,
   "metadata": {},
   "outputs": [
    {
     "name": "stdout",
     "output_type": "stream",
     "text": [
      "打印列表： [1, 2, 3, 4]\n",
      "打印第一元素: 1\n",
      "列表有几个？ 4\n"
     ]
    }
   ],
   "source": [
    "# 这是一个列表\n",
    "my_list = [1, 2, 3, 4]\n",
    "print(\"打印列表：\", my_list)\n",
    "print(\"打印第一元素:\", my_list[0])\n",
    "print(\"列表有几个？\",len(my_list))"
   ]
  },
  {
   "cell_type": "code",
   "execution_count": 11,
   "metadata": {},
   "outputs": [
    {
     "name": "stdout",
     "output_type": "stream",
     "text": [
      "*** 增加元素后 ***\n",
      "打印列表： [1, 2, 3, 4, 66]\n",
      "列表有几个？ 5\n"
     ]
    }
   ],
   "source": [
    "# 列表还可以增加元素（使用列表的 append 方法）\n",
    "my_list.append(66)\n",
    "print(\"*** 增加元素后 ***\")\n",
    "print(\"打印列表：\", my_list)\n",
    "print(\"列表有几个？\",len(my_list))"
   ]
  },
  {
   "cell_type": "code",
   "execution_count": 12,
   "metadata": {},
   "outputs": [
    {
     "name": "stdout",
     "output_type": "stream",
     "text": [
      "*** 删除元素后 ***\n",
      "打印列表： [1, 2, 3, 4]\n",
      "列表有几个？ 4\n"
     ]
    }
   ],
   "source": [
    "# 列表还可以删除元素（使用列表的 remove 方法）\n",
    "my_list.remove(66)\n",
    "print(\"*** 删除元素后 ***\")\n",
    "print(\"打印列表：\", my_list)\n",
    "print(\"列表有几个？\",len(my_list))"
   ]
  },
  {
   "cell_type": "markdown",
   "metadata": {},
   "source": [
    "# 什么是列表中的列表？"
   ]
  },
  {
   "cell_type": "code",
   "execution_count": 13,
   "metadata": {},
   "outputs": [
    {
     "name": "stdout",
     "output_type": "stream",
     "text": [
      "1） [[1, 2, 3, 4], [5, 6, 7]]\n",
      "2） [1, 2, 3, 4]\n",
      "3） 1\n"
     ]
    }
   ],
   "source": [
    "# 列表中的元素依然是列表\n",
    "my_list_list = [ [1, 2 ,3 ,4], [5, 6, 7] ]\n",
    "print(\"1）\",my_list_list)\n",
    "print(\"2）\",my_list_list[0])\n",
    "print(\"3）\",my_list_list[0][0])\n",
    "# 实际上还可以列表中的列表中的列表...，可以尝试一下"
   ]
  },
  {
   "cell_type": "code",
   "execution_count": 14,
   "metadata": {},
   "outputs": [],
   "source": [
    "# 创建两个“空”列表变量\n",
    "staff_names = [] # 员工姓名列表\n",
    "staff_values_list = [] # 员工数据明细列表（这个就是列表中的列表）\n",
    "\n",
    "# 因为第一行（索引=0）是字段名，所以从第二行（索引=1）开始读数据\n",
    "for row_index in range(1, sheet_rd.nrows):\n",
    "    values = sheet_rd.row_values(row_index)  # 获取员工的数据列表\n",
    "    # print(values)           # 可以删除注释，打印这一行数据列表看看\n",
    "    staff_name = values[2]    # 第三列是姓名\n",
    "    # print(staff_name)       # 可以删除注释，打印一下看看\n",
    "    staff_names.append(staff_name)  # append\n",
    "    staff_values_list.append(values) # 列表中可以再包含列表 [[...],[...]]\n",
    "\n",
    "# 打印读取的员工姓名列表、员工数据明细列表\n",
    "# print(\"员工姓名列表：\",staff_names)           # 可以删除注释，打印一下看看\n",
    "# print(\"员工数据明细列表：\",staff_values_list) # 可以删除注释，打印一下看看"
   ]
  },
  {
   "cell_type": "code",
   "execution_count": 15,
   "metadata": {},
   "outputs": [
    {
     "name": "stdout",
     "output_type": "stream",
     "text": [
      "文件 ./files/Excel_员工工资单_01.xls 生成成功\n"
     ]
    }
   ],
   "source": [
    "# 创建写入工作簿对象\n",
    "workbook_wt = xlwt.Workbook(encoding='utf-8')\n",
    "\n",
    "# 字段样式（背景=草绿，文字颜色=白色，字号=12，水平对齐=靠右）\n",
    "field_style = create_style(back_color=57, font_color=1, font_size=12, horz=3)\n",
    "# 数据值的样式（背景=白色，文字颜色=黑色，字号=12，水平对齐=居中）\n",
    "value_style = create_style(back_color=1, font_color=0, font_size=12, horz=2)\n",
    "\n",
    "# 循环遍历每个员工的姓名\n",
    "for staff_index, staff_name in enumerate(staff_names):\n",
    "    # 创建工作表，工作表名就是员工姓名\n",
    "    sheet_wt = workbook_wt.add_sheet(staff_name)\n",
    "\n",
    "    # 获取员工的数据明细\n",
    "    staff_data = staff_values_list[staff_index]\n",
    "    # 遍历字段和数据\n",
    "    for field_index, field_name in enumerate(field_names):\n",
    "        # 第3列为字段名，第4列为数据\n",
    "        sheet_wt.write(r=field_index + 1, c=2, label=field_name, style=field_style)\n",
    "\n",
    "        value = staff_data[field_index]\n",
    "        \n",
    "        sheet_wt.write(r=field_index + 1, c=3, label=value, style=value_style)\n",
    "\n",
    "    # 设置列宽\n",
    "    sheet_wt.col(2).width = 256 * 15\n",
    "    sheet_wt.col(3).width = 256 * 20\n",
    "\n",
    "\n",
    "workbook_wt.save(xls_filename_wt)\n",
    "\n",
    "print(\"文件 %s 生成成功\" % xls_filename_wt)"
   ]
  },
  {
   "cell_type": "code",
   "execution_count": null,
   "metadata": {},
   "outputs": [],
   "source": []
  }
 ],
 "metadata": {
  "kernelspec": {
   "display_name": "Python 3",
   "language": "python",
   "name": "python3"
  },
  "language_info": {
   "codemirror_mode": {
    "name": "ipython",
    "version": 3
   },
   "file_extension": ".py",
   "mimetype": "text/x-python",
   "name": "python",
   "nbconvert_exporter": "python",
   "pygments_lexer": "ipython3",
   "version": "3.7.4"
  }
 },
 "nbformat": 4,
 "nbformat_minor": 2
}
