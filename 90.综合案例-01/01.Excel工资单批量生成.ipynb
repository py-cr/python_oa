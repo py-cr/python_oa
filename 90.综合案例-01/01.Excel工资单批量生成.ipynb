{
 "cells": [
  {
   "cell_type": "code",
   "execution_count": 1,
   "metadata": {},
   "outputs": [],
   "source": [
    "# 导入Excel读写工具包\n",
    "import xlrd\n",
    "import xlwt"
   ]
  },
  {
   "cell_type": "code",
   "execution_count": null,
   "metadata": {},
   "outputs": [],
   "source": [
    "# 如果本地没有安装工具包，请去掉“#”，再执行\n",
    "# !pip install -i https://mirrors.aliyun.com/pypi/simple/ xlwt"
   ]
  },
  {
   "cell_type": "code",
   "execution_count": 14,
   "metadata": {},
   "outputs": [
    {
     "name": "stdout",
     "output_type": "stream",
     "text": [
      "0:00:00.010968\n",
      "文件 ./files/Excel_生成_工资单明细.xls 生成成功\n"
     ]
    }
   ],
   "source": [
    "# 导入本地 xlwt_ext.py 文件\n",
    "from xlwt_ext import create_style\n",
    "from datetime import datetime\n",
    "\n",
    "# 记录开始时间\n",
    "start_time = datetime.now()\n",
    "\n",
    "# 文件名放入变量\n",
    "# 读取的Excel文件名\n",
    "xls_filename_rd = \"./files/Excel_工资单明细.xls\"\n",
    "# 写入的Excel文件名\n",
    "xls_filename_wt = \"./files/Excel_生成_工资单明细.xls\"\n",
    "\n",
    "# 1) 读取Excel，赋值给变量workbook_rd\n",
    "workbook_rd = xlrd.open_workbook(xls_filename_rd)\n",
    "\n",
    "# 获取工作表，赋值给变量sheet_rd\n",
    "sheet_rd = workbook_rd.sheet_by_index(0)\n",
    "\n",
    "# 获取表格的所有字段，第一行是字段名\n",
    "field_names = sheet_rd.row_values(0)\n",
    "# print(field_names)\n",
    "\n",
    "# 创建两个列表变量\n",
    "# 员工姓名列表\n",
    "staff_names = []\n",
    "# 员工数据明细列表\n",
    "staff_data_details = []\n",
    "\n",
    "# 从第二行开始才是数据，因为第一行是字段名\n",
    "for row_index in range(1, sheet_rd.nrows):\n",
    "    row_values = sheet_rd.row_values(row_index)  # 获取第四行内容\n",
    "    # 打印这一行数据列表\n",
    "    # print(row_values)\n",
    "    # 第三列是姓名\n",
    "    staff_name = row_values[2]\n",
    "    staff_names.append(staff_name)\n",
    "    staff_data_details.append(row_values)\n",
    "\n",
    "# print(staff_names)\n",
    "# print(staff_data_details)\n",
    "\n",
    "# 创建写入工作簿对象\n",
    "workbook_wt = xlwt.Workbook(encoding='utf-8')\n",
    "\n",
    "caption_style = create_style(5)  # 标题显示用黄色背景图案\n",
    "data_style = create_style(1)  # 数据显示用白色背景图案\n",
    "\n",
    "# 循环遍历每个员工的姓名\n",
    "for staff_index, staff_name in enumerate(staff_names):\n",
    "    # 创建工作表，工作表名就是员工姓名\n",
    "    sheet_wt = workbook_wt.add_sheet(staff_name)\n",
    "\n",
    "    # 获取员工的数据明细\n",
    "    staff_data = staff_data_details[staff_index]\n",
    "    # 遍历字段和数据\n",
    "    for field_index, field_name in enumerate(field_names):\n",
    "        # 第一列为字段名，第二列为数据\n",
    "        sheet_wt.write(r=field_index, c=0, label=field_name, style=caption_style)\n",
    "        sheet_wt.write(r=field_index, c=1, label=staff_data[field_index], style=data_style)\n",
    "\n",
    "    # 设置列宽\n",
    "    caption_col = sheet_wt.col(0)\n",
    "    data_col = sheet_wt.col(1)\n",
    "    caption_col.width = 256 * 20\n",
    "    data_col.width = 256 * 20\n",
    "# import time\n",
    "# time.sleep(2)\n",
    "# 保存\n",
    "workbook_wt.save(xls_filename_wt)\n",
    "\n",
    "# 记录结束时间\n",
    "end_time = datetime.now()\n",
    "# 计算耗时\n",
    "during_time = end_time - start_time\n",
    "print(during_time)\n",
    "\n",
    "print(\"文件 %s 生成成功\" % xls_filename_wt)"
   ]
  },
  {
   "cell_type": "code",
   "execution_count": null,
   "metadata": {},
   "outputs": [],
   "source": []
  }
 ],
 "metadata": {
  "kernelspec": {
   "display_name": "Python 3",
   "language": "python",
   "name": "python3"
  },
  "language_info": {
   "codemirror_mode": {
    "name": "ipython",
    "version": 3
   },
   "file_extension": ".py",
   "mimetype": "text/x-python",
   "name": "python",
   "nbconvert_exporter": "python",
   "pygments_lexer": "ipython3",
   "version": "3.7.4"
  }
 },
 "nbformat": 4,
 "nbformat_minor": 2
}
