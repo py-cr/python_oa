{
 "cells": [
  {
   "cell_type": "markdown",
   "metadata": {},
   "source": [
    "# 导入包并显示样例图片"
   ]
  },
  {
   "cell_type": "code",
   "execution_count": null,
   "metadata": {},
   "outputs": [],
   "source": [
    "from img_utils import show_img # 查看图片\n",
    "import os\n",
    "\n",
    "input_dir = \"images/cubemap\"\n",
    "# 原始图片（目录： images/cubemap）\n",
    "input_images =  list(filter(lambda f: f.startswith(\"in_\") and not f.__contains__(\"_6x1\"), os.listdir(input_dir)))\n",
    "print(\"原始图片：\\n\" , input_images)"
   ]
  },
  {
   "cell_type": "markdown",
   "metadata": {},
   "source": [
    "# 查看原始图片"
   ]
  },
  {
   "cell_type": "code",
   "execution_count": null,
   "metadata": {
    "pycharm": {
     "name": "#%%\n"
    }
   },
   "outputs": [],
   "source": [
    "input_image = 'in_02.jpg'\n",
    "input_image = os.path.join(input_dir, input_image)\n",
    "print(\"原始图片路径：\", os.path.normpath(input_image))\n",
    "show_img(input_image, title='原始图片')\n",
    "\n",
    "#   上\n",
    "# 左前右后\n",
    "#   下\n",
    "\n",
    "show_img('images\\cubemap\\cubemap.png', '原理')"
   ]
  },
  {
   "cell_type": "markdown",
   "metadata": {},
   "source": [
    "# 转换为 布局为 6x1 的方体贴图纹理图片"
   ]
  },
  {
   "cell_type": "code",
   "execution_count": null,
   "metadata": {},
   "outputs": [],
   "source": [
    "from panorama import conv_to_cubemap_6x1\n",
    "# 转为 cubemap（立方体贴图纹理） 6x1 的布局图片\n",
    "cubemap_6x1_img = conv_to_cubemap_6x1(input_image)\n",
    "print(\"cubemap 6x1图片路径：\", os.path.normpath(cubemap_6x1_img))\n",
    "show_img(cubemap_6x1_img, title='CubeMap 6x1')\n",
    "# 右左上下前后 -> Right Left Up Down Front Back -> rludfb "
   ]
  },
  {
   "cell_type": "markdown",
   "metadata": {},
   "source": [
    "# 制作全景图片"
   ]
  },
  {
   "cell_type": "code",
   "execution_count": null,
   "metadata": {
    "pycharm": {
     "name": "#%%\n"
    }
   },
   "outputs": [],
   "source": [
    "from panorama import cubemap_6x1_to_panorama\n",
    "panoramic_image = cubemap_6x1_to_panorama(cubemap_6x1_img, 'output/out_panoramic.jpg')\n",
    "print(\"360全景图片路径：\", os.path.normpath(panoramic_image))\n",
    "show_img(panoramic_image, title='360全景图片')"
   ]
  },
  {
   "cell_type": "markdown",
   "source": [
    "# 用支持全景的软件查看，比如：PotPlayer "
   ],
   "metadata": {
    "collapsed": false,
    "pycharm": {
     "name": "#%% md\n"
    }
   }
  },
  {
   "cell_type": "markdown",
   "source": [
    "# 制作全景视频"
   ],
   "metadata": {
    "collapsed": false,
    "pycharm": {
     "name": "#%% md\n"
    }
   }
  },
  {
   "cell_type": "code",
   "execution_count": null,
   "outputs": [],
   "source": [
    "from panorama import conv_to_panoramic_video\n",
    "audio_file = \"alpha.mp3\"\n",
    "output_mp4 =  'output/out_panoramic.mp4'\n",
    "# 将一张全景图片、音频合成一个 mp4视频文件\n",
    "# panoramic_image: 全景图片\n",
    "# audio_file: 音频文件\n",
    "# output_mp4: 输出的mp4视频文件名\n",
    "# size: 输出的分辨率：\n",
    "#       1K分辨率：1920x1080\n",
    "#       2K分辨率：2048x1080\n",
    "#       4K分辨率：4096x2160\n",
    "#       8K分辨率：7680x4320\n",
    "conv_to_panoramic_video(panoramic_image, audio_file, output_mp4, size=\"4096x2160\")\n",
    "print(\"360全景视频路径：\", os.path.normpath(output_mp4))"
   ],
   "metadata": {
    "collapsed": false,
    "pycharm": {
     "name": "#%%\n"
    }
   }
  },
  {
   "cell_type": "markdown",
   "source": [
    "# 用支持全景的软件查看，比如：PotPlayer "
   ],
   "metadata": {
    "collapsed": false,
    "pycharm": {
     "name": "#%% md\n"
    }
   }
  },
  {
   "cell_type": "markdown",
   "source": [
    "# 请搜索关键字“cubemap 6x1”，了解更多"
   ],
   "metadata": {
    "collapsed": false,
    "pycharm": {
     "name": "#%% md\n"
    }
   }
  },
  {
   "cell_type": "code",
   "execution_count": null,
   "metadata": {},
   "outputs": [],
   "source": [
    "from panorama import conv_to_panoramic_video\n",
    "audio_file = \"alpha.mp3\"\n",
    "output_mp4 =  'output/out_panoramic.mp4'\n",
    "# 将一张全景图片、音频合成一个 mp4视频文件\n",
    "# panoramic_image: 全景图片\n",
    "# audio_file: 音频文件\n",
    "# output_mp4: 输出的mp4视频文件名\n",
    "# size: 输出的分辨率：\n",
    "#       1K分辨率：1920x1080\n",
    "#       2K分辨率：2048x1080\n",
    "#       4K分辨率：4096x2160\n",
    "#       8K分辨率：7680x4320\n",
    "conv_to_panoramic_video(panoramic_image, audio_file, output_mp4, size=\"4096x2160\")\n",
    "print(\"360全景视频路径：\", os.path.normpath(output_mp4))"
   ]
  },
  {
   "cell_type": "markdown",
   "metadata": {},
   "source": [
    "# 用支持全景的软件查看，比如：PotPlayer "
   ]
  },
  {
   "cell_type": "markdown",
   "metadata": {},
   "source": [
    "# 请搜索关键字“cubemap 6x1”，了解更多"
   ]
  },
  {
   "cell_type": "code",
   "execution_count": null,
   "metadata": {},
   "outputs": [],
   "source": []
  }
 ],
 "metadata": {
  "kernelspec": {
   "display_name": "Python 3 (ipykernel)",
   "language": "python",
   "name": "python3"
  },
  "language_info": {
   "codemirror_mode": {
    "name": "ipython",
    "version": 3
   },
   "file_extension": ".py",
   "mimetype": "text/x-python",
   "name": "python",
   "nbconvert_exporter": "python",
   "pygments_lexer": "ipython3",
   "version": "3.9.13"
  }
 },
 "nbformat": 4,
 "nbformat_minor": 1
}