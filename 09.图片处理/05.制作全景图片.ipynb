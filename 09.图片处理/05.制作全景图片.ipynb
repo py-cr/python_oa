{
 "cells": [
  {
   "cell_type": "markdown",
   "metadata": {},
   "source": [
    "# 全景图片的制作方法\n",
    "\n",
    "<table width=\"100%\" border=\"0\">\n",
    "<tr>\n",
    "  <td valign=\"top\"  width=\"40%\">\n",
    "    <img src=\"images/cubemap/in_6x1.jpg\" align=\"left\"/>\n",
    "  </td>\n",
    "  <td valign=\"top\"  width=\"10%\">\n",
    "    <img src=\"images/cubemap/arrow.png\" align=\"left\"/>\n",
    "  </td>\n",
    "  <td valign=\"top\"  width=\"50%\">\n",
    "    <img src=\"images/cubemap/panoramic.jpg\" align=\"right\"/>\n",
    "  </td>\n",
    "</tr>\n",
    "</table>\n",
    "\n",
    "<font style=\"color:red;font-size:20px\">原理就是：将六个方向(前后左右上下)的图像合成为一张全景图片</font>\n",
    "\n"
   ]
  },
  {
   "cell_type": "markdown",
   "source": [
    "## 1、导入包"
   ],
   "metadata": {
    "collapsed": false,
    "pycharm": {
     "name": "#%% md\n"
    }
   }
  },
  {
   "cell_type": "code",
   "execution_count": null,
   "outputs": [],
   "source": [
    "from img_utils import show_img\n",
    "import os"
   ],
   "metadata": {
    "collapsed": false,
    "pycharm": {
     "name": "#%%\n"
    }
   }
  },
  {
   "cell_type": "markdown",
   "source": [
    "## 2、提供样例图片"
   ],
   "metadata": {
    "collapsed": false,
    "pycharm": {
     "name": "#%% md\n"
    }
   }
  },
  {
   "cell_type": "code",
   "execution_count": null,
   "outputs": [],
   "source": [
    "input_dir = \"images/cubemap\"  # 存放样例图片的路径\n",
    "# 查看 images/cubemap 目录下的样例图片\n",
    "input_images =  list(filter(lambda f: f.startswith(\"in_\") and not f.__contains__(\"_6x1\"), os.listdir(input_dir)))\n",
    "print(\"样例图片：\\n\" , input_images)\n",
    "for input_img in input_images:\n",
    "    show_img( os.path.join(input_dir, input_img), title=input_img, figsize=(4, 3))"
   ],
   "metadata": {
    "collapsed": false,
    "pycharm": {
     "name": "#%%\n"
    }
   }
  },
  {
   "cell_type": "markdown",
   "source": [
    "### 不管六个方向图像的位置怎样，我们都要统一转换为如下： 6x1 的方体贴图纹理图片\n",
    "\n",
    "<table width=\"100%\" border=\"0\">\n",
    "<tr>\n",
    "  <td valign=\"top\"  width=\"40%\">\n",
    "    <img src=\"images/cubemap/in_02.jpg\" align=\"left\"/>\n",
    "  </td>\n",
    "  <td valign=\"top\"  width=\"10%\">\n",
    "    <img src=\"images/cubemap/arrow.png\" align=\"left\"/>\n",
    "  </td>\n",
    "  <td valign=\"top\" width=\"50%\"  align=\"middle\">\n",
    "    <img src=\"images/cubemap/in_6x1.jpg\" />\n",
    "    <font style=\"font-size:29px;\">&nbsp;右 &nbsp;&nbsp;&nbsp;&nbsp;\n",
    "        左 &nbsp;&nbsp;&nbsp; &nbsp;\n",
    "        上 &nbsp;&nbsp;&nbsp;&nbsp;\n",
    "        下 &nbsp;&nbsp;&nbsp;&nbsp;\n",
    "        前 &nbsp;&nbsp;&nbsp;&nbsp;\n",
    "        后 &nbsp;&nbsp;&nbsp;</font>\n",
    "  </td>\n",
    "</tr>\n",
    "</table>"
   ],
   "metadata": {
    "collapsed": false,
    "pycharm": {
     "name": "#%% md\n"
    }
   }
  },
  {
   "cell_type": "markdown",
   "source": [
    "## 3、选择一张样例图片作为输入"
   ],
   "metadata": {
    "collapsed": false,
    "pycharm": {
     "name": "#%% md\n"
    }
   }
  },
  {
   "cell_type": "code",
   "execution_count": null,
   "outputs": [],
   "source": [
    "from panorama import conv_to_cubemap_6x1\n",
    "\n",
    "input_image = 'in_02.jpg'  # 从上面样例图片中，\n",
    "input_image = os.path.join(input_dir, input_image)\n",
    "print(\"原始图片路径：\", os.path.normpath(input_image))\n",
    "show_img(input_image, title='原始图片', figsize=(4.8, 3.6))"
   ],
   "metadata": {
    "collapsed": false,
    "pycharm": {
     "name": "#%%\n"
    }
   }
  },
  {
   "cell_type": "markdown",
   "source": [
    "<img src=\"images/cubemap/cubemap_intro.jpg\" style=\"width:40%\" align=\"left\"/> "
   ],
   "metadata": {
    "collapsed": false,
    "pycharm": {
     "name": "#%% md\n"
    }
   }
  },
  {
   "cell_type": "markdown",
   "source": [
    "## 4、统一转换为 6x1 的方体贴图纹理图片"
   ],
   "metadata": {
    "collapsed": false,
    "pycharm": {
     "name": "#%% md\n"
    }
   }
  },
  {
   "cell_type": "code",
   "execution_count": null,
   "outputs": [],
   "source": [
    "# rludfb 顺序： 右左上下前后\n",
    "rludfb=[(3, 2), (1, 2), (2, 1), (2, 3), (2, 2), (4, 2)] # in_01 ~ in_06\n",
    "# rludfb=[(1, 2), (4, 2), (1, 1), (1, 3), (1, 2), (3, 2)] # in_07 \n",
    "# rludfb=[(4, 2), (2, 2), (3, 1), (3, 3), (3, 2), (1, 2)] # in_08 \n",
    "# rludfb=[(1, 2), (3, 2), (4, 1), (4, 3), (4, 2), (2, 2)] # in_09 \n",
    "\n",
    "# 转为 cubemap（立方体贴图纹理） 6x1 的布局图片\n",
    "cubemap_6x1_img = conv_to_cubemap_6x1(input_image, rludfb=rludfb)\n",
    "\n",
    "print(\"cubemap 6x1图片路径：\", os.path.normpath(cubemap_6x1_img))\n",
    "show_img(cubemap_6x1_img, title='CubeMap 6x1')\n",
    "# 右左上下前后 -> Right Left Up Down Front Back -> rludfb "
   ],
   "metadata": {
    "collapsed": false,
    "pycharm": {
     "name": "#%%\n"
    }
   }
  },
  {
   "cell_type": "markdown",
   "source": [
    "## 5、制作全景图片"
   ],
   "metadata": {
    "collapsed": false,
    "pycharm": {
     "name": "#%% md\n"
    }
   }
  },
  {
   "cell_type": "code",
   "execution_count": null,
   "outputs": [],
   "source": [
    "from panorama import cubemap_6x1_to_panorama\n",
    "panoramic_image = cubemap_6x1_to_panorama(cubemap_6x1_img, 'output/out_panoramic.jpg')\n",
    "print(\"360全景图片路径：\", os.path.normpath(panoramic_image))\n",
    "show_img(panoramic_image, title='360全景图片')"
   ],
   "metadata": {
    "collapsed": false,
    "pycharm": {
     "name": "#%%\n"
    }
   }
  },
  {
   "cell_type": "markdown",
   "source": [
    "### 用支持全景的软件查看，比如：PotPlayer、utovr、GoPro VR Player "
   ],
   "metadata": {
    "collapsed": false,
    "pycharm": {
     "name": "#%% md\n"
    }
   }
  },
  {
   "cell_type": "markdown",
   "source": [
    "### 请搜索关键字“cubemap 全景”，了解更多"
   ],
   "metadata": {
    "collapsed": false,
    "pycharm": {
     "name": "#%% md\n"
    }
   }
  },
  {
   "cell_type": "markdown",
   "source": [
    "## 6、还可以制作全景视频"
   ],
   "metadata": {
    "collapsed": false,
    "pycharm": {
     "name": "#%% md\n"
    }
   }
  },
  {
   "cell_type": "code",
   "execution_count": null,
   "outputs": [],
   "source": [
    "from panorama import conv_to_panoramic_video\n",
    "audio_file = \"alpha.mp3\"\n",
    "output_mp4 =  'output/out_panoramic.mp4'\n",
    "# 将一张全景图片、音频合成一个 mp4视频文件\n",
    "# panoramic_image: 全景图片\n",
    "# audio_file: 音频文件\n",
    "# output_mp4: 输出的mp4视频文件名\n",
    "# size: 输出的分辨率：\n",
    "#       1K分辨率：1920x1080\n",
    "#       2K分辨率：2048x1080\n",
    "#       4K分辨率：4096x2160\n",
    "#       8K分辨率：7680x4320\n",
    "conv_to_panoramic_video(panoramic_image, audio_file, output_mp4, size=\"4096x2160\")\n",
    "print(\"360全景视频路径：\", os.path.normpath(output_mp4))"
   ],
   "metadata": {
    "collapsed": false,
    "pycharm": {
     "name": "#%%\n"
    }
   }
  }
 ],
 "metadata": {
  "kernelspec": {
   "display_name": "Python 3 (ipykernel)",
   "language": "python",
   "name": "python3"
  },
  "language_info": {
   "codemirror_mode": {
    "name": "ipython",
    "version": 3
   },
   "file_extension": ".py",
   "mimetype": "text/x-python",
   "name": "python",
   "nbconvert_exporter": "python",
   "pygments_lexer": "ipython3",
   "version": "3.9.13"
  }
 },
 "nbformat": 4,
 "nbformat_minor": 1
}