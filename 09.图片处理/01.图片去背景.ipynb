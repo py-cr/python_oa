{
 "cells": [
  {
   "cell_type": "code",
   "execution_count": null,
   "metadata": {},
   "outputs": [],
   "source": [
    "from removebg import remove_bg, show_img\n",
    "import os\n",
    "from PIL import Image  # PIL(pillow)库可以完成图像归档和图像处理两方面功能需求"
   ]
  },
  {
   "cell_type": "code",
   "execution_count": null,
   "metadata": {},
   "outputs": [],
   "source": [
    "img_file = \"images/cat_dog.jpg\"\n",
    "show_img(img_file)  # 输入图片"
   ]
  },
  {
   "cell_type": "code",
   "execution_count": null,
   "metadata": {},
   "outputs": [],
   "source": [
    "# 使用前，请设置 API_KEY，需要自己去注册 https://www.remove.bg\n",
    "API_KEY = \"\"\n",
    "# 删除图片背景，no_bg_img_file 为图片路径\n",
    "no_bg_img_file = remove_bg(API_KEY, img_file)\n",
    "show_img(no_bg_img_file)  # 输入图片"
   ]
  },
  {
   "cell_type": "code",
   "execution_count": null,
   "metadata": {},
   "outputs": [],
   "source": []
  }
 ],
 "metadata": {
  "kernelspec": {
   "display_name": "Python 3",
   "language": "python",
   "name": "python3"
  },
  "language_info": {
   "codemirror_mode": {
    "name": "ipython",
    "version": 3
   },
   "file_extension": ".py",
   "mimetype": "text/x-python",
   "name": "python",
   "nbconvert_exporter": "python",
   "pygments_lexer": "ipython3",
   "version": "3.7.4"
  }
 },
 "nbformat": 4,
 "nbformat_minor": 2
}
