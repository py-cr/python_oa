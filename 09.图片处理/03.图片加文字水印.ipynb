{
 "cells": [
  {
   "cell_type": "code",
   "execution_count": null,
   "metadata": {},
   "outputs": [],
   "source": [
    "from watermarker import add_water_marker_text_to_image\n",
    "from img_utils import show_img"
   ]
  },
  {
   "cell_type": "markdown",
   "metadata": {},
   "source": [
    "# 展示原始图片"
   ]
  },
  {
   "cell_type": "code",
   "execution_count": null,
   "metadata": {},
   "outputs": [],
   "source": [
    "# 原始图片路径\n",
    "src_image = \"./images/cat_dog.jpg\"\n",
    "# 增加水印后的图片路径\n",
    "out_image = './output/Python超人_水印.png'\n",
    "# 查看原始图片\n",
    "show_img(src_image,\"原始图片\")"
   ]
  },
  {
   "cell_type": "markdown",
   "metadata": {},
   "source": [
    "# 增加文字水印，并展示增加水印后的图片"
   ]
  },
  {
   "cell_type": "code",
   "execution_count": null,
   "metadata": {},
   "outputs": [],
   "source": [
    "# src_image: 原始图片路径\n",
    "# out_image: 增加水印后的图片路径\n",
    "# text: 增加水印文字内容\n",
    "add_water_marker_text_to_image(src_image=src_image, out_image=out_image,text='Python超人')\n",
    "\n",
    "show_img(out_image,\"添加水印\")"
   ]
  },
  {
   "cell_type": "markdown",
   "metadata": {},
   "source": [
    "# 增加文字水印，使用更多的控制参数"
   ]
  },
  {
   "cell_type": "code",
   "execution_count": null,
   "metadata": {},
   "outputs": [],
   "source": [
    "# src_image: 原始图片路径\n",
    "# out_image: 增加水印后的图片路径\n",
    "# text: 增加水印文字内容\n",
    "# alpha: 透明度 0 - 255，默认：125\n",
    "# rotate: 旋转角度，默认：-45度\n",
    "# font_file: 字体文件，默认：微软雅黑（默认 C:\\Windows\\Fonts\\下的字体，如果不存在，则使用微软雅黑）\n",
    "# font_size: 字号大小，默认：50\n",
    "# h_density: 文字水平疏密程度，默认：1，越大越密\n",
    "# v_density: 文字垂直疏密程度，默认：1，越大越密\n",
    "add_water_marker_text_to_image(\n",
    "    src_image=src_image, out_image=out_image, text='Python超人',\n",
    "    alpha=100, rotate=0, font_file=\"msyh.ttc\",\n",
    "    font_size=40, h_density=2, v_density=2)\n",
    "\n",
    "show_img(out_image,\"添加水印\")"
   ]
  }
 ],
 "metadata": {
  "kernelspec": {
   "display_name": "Python 3",
   "language": "python",
   "name": "python3"
  },
  "language_info": {
   "codemirror_mode": {
    "name": "ipython",
    "version": 3
   },
   "file_extension": ".py",
   "mimetype": "text/x-python",
   "name": "python",
   "nbconvert_exporter": "python",
   "pygments_lexer": "ipython3",
   "version": "3.7.4"
  }
 },
 "nbformat": 4,
 "nbformat_minor": 2
}
