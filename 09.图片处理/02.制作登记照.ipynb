{
 "cells": [
  {
   "cell_type": "code",
   "execution_count": null,
   "metadata": {},
   "outputs": [],
   "source": [
    "from removebg import make_reg_photo, show_img"
   ]
  },
  {
   "cell_type": "code",
   "execution_count": null,
   "metadata": {},
   "outputs": [],
   "source": [
    "mm_img = \"images/mm_02.jpg\"\n",
    "show_img(mm_img)  # 展示原始图片"
   ]
  },
  {
   "cell_type": "code",
   "execution_count": null,
   "metadata": {},
   "outputs": [],
   "source": [
    "# 使用前，请设置 API_KEY，需要自己去注册 https://www.remove.bg\n",
    "API_KEY = \"\"\n",
    "\n",
    "# 处理为红色背景\n",
    "reg_photo_file = make_reg_photo(API_KEY, mm_img, bg_color=\"red\")\n",
    "show_img(reg_photo_file, \"红色背景\")  # 展示处理后的登记照片\n",
    "\n",
    "# 处理为蓝色背景\n",
    "reg_photo_file = make_reg_photo(API_KEY, mm_img, bg_color=\"blue\")\n",
    "show_img(reg_photo_file, \"蓝色背景\")  # 展示处理后的登记照片\n",
    "\n",
    "# 处理为白色背景\n",
    "reg_photo_file = make_reg_photo(API_KEY, mm_img, bg_color=\"white\")\n",
    "show_img(reg_photo_file, \"白色背景\")  # 展示处理后的登记照片\n",
    "\n",
    "# 处理为RGB颜色的背景（黄色）\n",
    "reg_photo_file = make_reg_photo(API_KEY, mm_img, bg_color=(255, 255, 0))\n",
    "show_img(reg_photo_file, \"黄色背景\")  # 展示处理后的登记照片"
   ]
  },
  {
   "cell_type": "code",
   "execution_count": null,
   "metadata": {},
   "outputs": [],
   "source": []
  }
 ],
 "metadata": {
  "kernelspec": {
   "display_name": "Python 3",
   "language": "python",
   "name": "python3"
  },
  "language_info": {
   "codemirror_mode": {
    "name": "ipython",
    "version": 3
   },
   "file_extension": ".py",
   "mimetype": "text/x-python",
   "name": "python",
   "nbconvert_exporter": "python",
   "pygments_lexer": "ipython3",
   "version": "3.7.4"
  }
 },
 "nbformat": 4,
 "nbformat_minor": 2
}
