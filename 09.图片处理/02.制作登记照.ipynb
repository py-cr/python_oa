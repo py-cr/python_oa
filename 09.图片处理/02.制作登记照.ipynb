{
 "cells": [
  {
   "cell_type": "code",
   "execution_count": null,
   "metadata": {},
   "outputs": [],
   "source": [
    "# 导入工具包（removebg.py）\n",
    "# 函数 make_reg_photo：制作登记照， 函数 show_img：显示图片\n",
    "from removebg import make_reg_photo, show_img"
   ]
  },
  {
   "cell_type": "markdown",
   "metadata": {},
   "source": [
    "# 展示原始图片\n",
    "\n",
    "### 将原始图片中的背景换为登记照的背景颜色"
   ]
  },
  {
   "cell_type": "code",
   "execution_count": null,
   "metadata": {},
   "outputs": [],
   "source": [
    "mm_img = \"images/mm_02.jpg\"\n",
    "show_img(mm_img)  # 展示原始图片"
   ]
  },
  {
   "cell_type": "markdown",
   "metadata": {},
   "source": [
    "# 执行代码，并展示登记照效果\n",
    "\n",
    "### 执行前，需要获取 API Key"
   ]
  },
  {
   "cell_type": "code",
   "execution_count": null,
   "metadata": {},
   "outputs": [],
   "source": [
    "# 使用前，请设置 API_KEY，需要自己去注册 https://www.remove.bg\n",
    "API_KEY = \"\"\n",
    "\n",
    "# 处理为红色背景\n",
    "reg_photo_file = make_reg_photo(API_KEY, mm_img, bg_color=\"red\")\n",
    "show_img(reg_photo_file, \"红色背景\")  # 展示处理后的登记照片\n",
    "\n",
    "# 处理为蓝色背景\n",
    "reg_photo_file = make_reg_photo(API_KEY, mm_img, bg_color=\"blue\")\n",
    "show_img(reg_photo_file, \"蓝色背景\")  # 展示处理后的登记照片\n",
    "\n",
    "# 处理为白色背景\n",
    "reg_photo_file = make_reg_photo(API_KEY, mm_img, bg_color=\"white\")\n",
    "show_img(reg_photo_file, \"白色背景\")  # 展示处理后的登记照片"
   ]
  },
  {
   "cell_type": "markdown",
   "metadata": {},
   "source": [
    "* 除了bg_color=red、blue、white 三种颜色\n",
    "* 还可以使用 RGB 颜色，参考：02.Word操作/04.Word样式布局.ipynb"
   ]
  },
  {
   "cell_type": "code",
   "execution_count": null,
   "metadata": {},
   "outputs": [],
   "source": [
    "# 处理为RGB颜色的背景（黄色）\n",
    "reg_photo_file = make_reg_photo(API_KEY, mm_img, bg_color=(255, 255, 0))\n",
    "show_img(reg_photo_file, \"黄色背景\")  # 展示处理后的登记照片"
   ]
  },
  {
   "cell_type": "markdown",
   "metadata": {},
   "source": [
    "# 获取 API Key 的步骤\n",
    "\n",
    "### 1. 访问 https://www.remove.bg/zh 站点\n",
    "### 2. 点击“注册”，进入创建帐号的页面\n",
    "### 3. 填写：电子邮箱、密码、密码确认，点击“注册”按钮后，将会收到一封邮件\n",
    "### 4. 登录注册的电子邮箱，点击“Activate Account” 激活帐号\n",
    "### 5. 登录  www.remove.bg  点击“我的账户”>“API密钥”>“新API密钥”\n",
    "### 6. 直接点击“创建API密钥”，点击“复制”，粘贴到代码API_KEY=\n"
   ]
  },
  {
   "cell_type": "code",
   "execution_count": null,
   "metadata": {},
   "outputs": [],
   "source": []
  }
 ],
 "metadata": {
  "kernelspec": {
   "display_name": "Python 3",
   "language": "python",
   "name": "python3"
  },
  "language_info": {
   "codemirror_mode": {
    "name": "ipython",
    "version": 3
   },
   "file_extension": ".py",
   "mimetype": "text/x-python",
   "name": "python",
   "nbconvert_exporter": "python",
   "pygments_lexer": "ipython3",
   "version": "3.7.4"
  }
 },
 "nbformat": 4,
 "nbformat_minor": 2
}
