{
 "cells": [
  {
   "cell_type": "code",
   "execution_count": 4,
   "metadata": {},
   "outputs": [],
   "source": [
    "import docx"
   ]
  },
  {
   "cell_type": "code",
   "execution_count": 3,
   "metadata": {
    "scrolled": false
   },
   "outputs": [
    {
     "name": "stdout",
     "output_type": "stream",
     "text": [
      "Looking in indexes: https://mirrors.aliyun.com/pypi/simple/\n",
      "Collecting python-docx\n",
      "  Downloading https://mirrors.aliyun.com/pypi/packages/8b/a0/52729ce4aa026f31b74cc877be1d11e4ddeaa361dc7aebec148171644b33/python-docx-0.8.11.tar.gz (5.6MB)\n",
      "Requirement already satisfied: lxml>=2.3.2 in c:\\programdata\\anaconda3\\lib\\site-packages (from python-docx) (4.4.1)\n",
      "Building wheels for collected packages: python-docx\n",
      "  Building wheel for python-docx (setup.py): started\n",
      "  Building wheel for python-docx (setup.py): finished with status 'done'\n",
      "  Created wheel for python-docx: filename=python_docx-0.8.11-cp37-none-any.whl size=184602 sha256=3fe479373e9a9f8aad8d562d52bbc774d97199c5918a03520d5c47123fa20ffe\n",
      "  Stored in directory: C:\\Users\\Administrator\\AppData\\Local\\pip\\Cache\\wheels\\91\\9a\\cd\\c781791f24c73722de59b2ec5c6ec96219fb6ff0d7cf4f166f\n",
      "Successfully built python-docx\n",
      "Installing collected packages: python-docx\n",
      "Successfully installed python-docx-0.8.11\n"
     ]
    }
   ],
   "source": [
    "# Anaconda 默认不包含 docx工具包，需要执行以下脚本进行安装\n",
    "!pip install -i https://mirrors.aliyun.com/pypi/simple/ python-docx"
   ]
  },
  {
   "cell_type": "code",
   "execution_count": 5,
   "metadata": {},
   "outputs": [
    {
     "name": "stdout",
     "output_type": "stream",
     "text": [
      "段落数:3\n",
      "Docx 工具包的使用说明\n",
      "Anaconda 默认不包含 docx工具包，需要执行以下脚本进行安装\n",
      "!pip install -i https://mirrors.aliyun.com/pypi/simple/ python-docx\n",
      "第0段的内容是：Docx 工具包的使用说明\n",
      "第1段的内容是：Anaconda 默认不包含 docx工具包，需要执行以下脚本进行安装\n",
      "第2段的内容是：!pip install -i https://mirrors.aliyun.com/pypi/simple/ python-docx\n"
     ]
    }
   ],
   "source": [
    "#读取docx中的文本代码示例\n",
    "\n",
    "#获取文档对象\n",
    "file=docx.Document(r\".\\files\\Word_读取说明.docx\")\n",
    "print(\"段落数:\"+str(len(file.paragraphs)))#段落数为13，每个回车隔离一段\n",
    "\n",
    "#输出每一段的内容\n",
    "for para in file.paragraphs:\n",
    "    print(para.text)\n",
    "\n",
    "#输出段落编号及段落内容\n",
    "for i in range(len(file.paragraphs)):\n",
    "    print(\"第\"+str(i)+\"段的内容是：\"+file.paragraphs[i].text)"
   ]
  },
  {
   "cell_type": "code",
   "execution_count": null,
   "metadata": {},
   "outputs": [],
   "source": []
  }
 ],
 "metadata": {
  "kernelspec": {
   "display_name": "Python 3",
   "language": "python",
   "name": "python3"
  },
  "language_info": {
   "codemirror_mode": {
    "name": "ipython",
    "version": 3
   },
   "file_extension": ".py",
   "mimetype": "text/x-python",
   "name": "python",
   "nbconvert_exporter": "python",
   "pygments_lexer": "ipython3",
   "version": "3.7.4"
  }
 },
 "nbformat": 4,
 "nbformat_minor": 2
}
