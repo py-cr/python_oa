{
 "cells": [
  {
   "cell_type": "markdown",
   "metadata": {},
   "source": [
    "## Word对象结构图\n",
    "\n",
    "<table width=\"100%\" border=\"0\">\n",
    "<tr>\n",
    "  <td valign=\"top\"  width=\"40%\">\n",
    "    <img src=\"images/Word对象结构图.png\" align=\"left\"/>\n",
    "  </td>\n",
    "  <td style=\"vertical-align:top; text-align:left;\">\n",
    "\n",
    "### Word文档结构非常复杂，主要的对象见左图\n",
    "#### 1、Document 对象表示整个文档\n",
    "#### 2、Paragrapha 对象表示段落（在文档中，每一次回车会产生新段落）\n",
    "#### 3、Run 对象表示相同样式的文本延续\n",
    "#### Document 对象包含一个 Paragrapha 对象的列表，Paragraph 对象包含一个 Run 对象的列表。\n",
    "\n",
    "  </td>\n",
    "</tr>\n",
    "</table>"
   ]
  },
  {
   "cell_type": "code",
   "execution_count": null,
   "metadata": {},
   "outputs": [],
   "source": [
    "# Anaconda 默认不包含 docx工具包，需要执行以下脚本进行安装\n",
    "!pip install -i https://mirrors.aliyun.com/pypi/simple/ python-docx"
   ]
  },
  {
   "cell_type": "code",
   "execution_count": null,
   "metadata": {},
   "outputs": [],
   "source": [
    "# 导入word工具包\n",
    "import docx\n",
    "from PIL import Image # 图片处理工具包\n",
    "from io import BytesIO # 字节流工具包\n",
    "import matplotlib.pyplot as plt # 图片显示"
   ]
  },
  {
   "cell_type": "markdown",
   "metadata": {},
   "source": [
    "# 1、读取Word文件"
   ]
  },
  {
   "cell_type": "code",
   "execution_count": null,
   "metadata": {},
   "outputs": [],
   "source": [
    "docx_file = r\".\\files\\Word_读取说明.docx\"\n",
    "document = docx.Document(docx_file)\n",
    "print(\"有 %s 个段落\" % len(document.paragraphs))\n",
    "print(\"有 %s 个表格\" % len(document.tables))\n"
   ]
  },
  {
   "cell_type": "markdown",
   "metadata": {},
   "source": [
    "# 2、查看段落 Paragrapha 的内容"
   ]
  },
  {
   "cell_type": "code",
   "execution_count": null,
   "metadata": {},
   "outputs": [],
   "source": [
    "for paragraph in document.paragraphs:\n",
    "    print(paragraph.text)"
   ]
  },
  {
   "cell_type": "markdown",
   "metadata": {},
   "source": [
    "# 3、查看行内元素 Run 的内容"
   ]
  },
  {
   "cell_type": "code",
   "execution_count": null,
   "metadata": {},
   "outputs": [],
   "source": [
    "for paragraph in document.paragraphs:\n",
    "    for r in paragraph.runs:\n",
    "        print(r.text)"
   ]
  },
  {
   "cell_type": "markdown",
   "metadata": {},
   "source": [
    "# 4、查看表格的内容"
   ]
  },
  {
   "cell_type": "code",
   "execution_count": null,
   "metadata": {},
   "outputs": [],
   "source": [
    "for table in document.tables:\n",
    "    print(\"---------------------------------\")\n",
    "    for row in table.rows:\n",
    "        print(row.cells)"
   ]
  },
  {
   "cell_type": "code",
   "execution_count": null,
   "metadata": {},
   "outputs": [],
   "source": [
    "for table in document.tables:\n",
    "    print(\"---------------------------------\")\n",
    "    for row in table.rows:\n",
    "        row_text = \"\"\n",
    "        for cell in row.cells:\n",
    "            row_text += cell.text + \"\\t|\\t\"\n",
    "        print(row_text[0:-3])\n",
    "        print(\"---------------------------------\")"
   ]
  },
  {
   "cell_type": "markdown",
   "metadata": {},
   "source": [
    "# 5、查看图片"
   ]
  },
  {
   "cell_type": "code",
   "execution_count": null,
   "metadata": {},
   "outputs": [],
   "source": [
    "# 读取 Word 文档中的图片\n",
    "print(\"*************** 图片 **************\")\n",
    "dict_rel = document.part._rels\n",
    "for rel in dict_rel:\n",
    "    rel = dict_rel[rel]\n",
    "    # word文档非常复杂，暂不展开课程内容，\n",
    "    # 我们把 word的扩展名改一下，您就会发现\n",
    "    if \"image\" in rel.reltype:\n",
    "        plt.figure('image')\n",
    "        plt.xticks([])\n",
    "        plt.yticks([])\n",
    "        im = Image.open(BytesIO(rel.target_part.blob))\n",
    "        plt.imshow(im)\n",
    "        plt.show()        \n"
   ]
  },
  {
   "cell_type": "markdown",
   "metadata": {},
   "source": [
    "# 6、功能合并到函数"
   ]
  },
  {
   "cell_type": "code",
   "execution_count": null,
   "metadata": {},
   "outputs": [],
   "source": [
    "#读取docx中的文本代码示例\n",
    "def read_docx(docx_file):\n",
    "    # 打开 Word 文档\n",
    "    document = docx.Document(docx_file)\n",
    "    # 读取 Word 文档中的段落\n",
    "    print(\"*************** 段落 **************\")\n",
    "    for paragraph in document.paragraphs:\n",
    "        for r in paragraph.runs:\n",
    "            r_info = \"\"\n",
    "            if r.font.name is not None:\n",
    "                r_info += r.font.name + \",\"\n",
    "            if r.font.size is not None:\n",
    "                r_info += \"字号:\" + str(round(int(r.font.size))/12700) + \",\"\n",
    "            if r.bold:\n",
    "                r_info += \"粗体字,\"\n",
    "            if r.italic:\n",
    "                r_info += \"斜体字,\"\n",
    "            if r.font.color.rgb is not None:\n",
    "                r_info += \"颜色:\" + str(r.font.color.rgb) + \",\"\n",
    "            if len(r_info) > 0:\n",
    "                r_info = r.text + f\"【{r_info[0:-1]}】\"\n",
    "            else:\n",
    "                r_info = r.text\n",
    "            print(r_info)\n",
    "            # print(\"text:%s font.name:%s font.size:%s bold:%s italic:%s font.color:%s\" % (r.text,r.font.name,r.font.size ,r.bold,r.italic,r.font.color.rgb))\n",
    "            \n",
    "    # 读取 Word 文档中表格中的内容\n",
    "    print(\"*************** 表格 **************\")\n",
    "    for table in document.tables:\n",
    "        print(\"---------------------------------\")\n",
    "        for row in table.rows:\n",
    "            row_text = \"\"\n",
    "            for cell in row.cells:\n",
    "                row_text += cell.text + \"\\t|\\t\"\n",
    "            print(row_text[0:-3])\n",
    "            print(\"---------------------------------\")\n",
    "\n",
    "    # 读取 Word 文档中的图片\n",
    "    print(\"*************** 图片 **************\")\n",
    "    dict_rel = document.part._rels\n",
    "    for rel in dict_rel:\n",
    "        rel = dict_rel[rel]\n",
    "        # word文档非常复杂，暂不展开课程内容，\n",
    "        # 我们把 word的扩展名改一下，您就会发现\n",
    "        if \"image\" in rel.reltype:\n",
    "            plt.figure('image')\n",
    "            plt.xticks([])\n",
    "            plt.yticks([])\n",
    "            im = Image.open(BytesIO(rel.target_part.blob))\n",
    "            plt.imshow(im)\n",
    "            plt.show()        \n",
    "\n",
    "read_docx(r\".\\files\\Word_读取说明.docx\")"
   ]
  },
  {
   "cell_type": "code",
   "execution_count": null,
   "metadata": {},
   "outputs": [],
   "source": []
  },
  {
   "cell_type": "code",
   "execution_count": null,
   "metadata": {},
   "outputs": [],
   "source": []
  }
 ],
 "metadata": {
  "kernelspec": {
   "display_name": "Python 3",
   "language": "python",
   "name": "python3"
  },
  "language_info": {
   "codemirror_mode": {
    "name": "ipython",
    "version": 3
   },
   "file_extension": ".py",
   "mimetype": "text/x-python",
   "name": "python",
   "nbconvert_exporter": "python",
   "pygments_lexer": "ipython3",
   "version": "3.7.4"
  }
 },
 "nbformat": 4,
 "nbformat_minor": 2
}
