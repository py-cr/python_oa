{
 "cells": [
  {
   "cell_type": "code",
   "execution_count": null,
   "metadata": {},
   "outputs": [],
   "source": [
    "import docx"
   ]
  },
  {
   "cell_type": "code",
   "execution_count": null,
   "metadata": {},
   "outputs": [],
   "source": [
    "# Anaconda 默认不包含 docx工具包，需要执行以下脚本进行安装\n",
    "!pip install -i https://mirrors.aliyun.com/pypi/simple/ python-docx"
   ]
  },
  {
   "cell_type": "code",
   "execution_count": null,
   "metadata": {},
   "outputs": [],
   "source": [
    "#读取docx中的文本代码示例\n",
    "\n",
    "#获取文档对象\n",
    "file=docx.Document(r\".\\files\\Word_读取说明.docx\")\n",
    "print(\"段落数:\"+str(len(file.paragraphs)))#段落数为13，每个回车隔离一段\n",
    "\n",
    "#输出每一段的内容\n",
    "for para in file.paragraphs:\n",
    "    print(para.text)\n",
    "\n",
    "#输出段落编号及段落内容\n",
    "for i in range(len(file.paragraphs)):\n",
    "    print(\"第\"+str(i)+\"段的内容是：\"+file.paragraphs[i].text)"
   ]
  },
  {
   "cell_type": "code",
   "execution_count": null,
   "metadata": {},
   "outputs": [],
   "source": []
  }
 ],
 "metadata": {
  "kernelspec": {
   "display_name": "Python 3",
   "language": "python",
   "name": "python3"
  },
  "language_info": {
   "codemirror_mode": {
    "name": "ipython",
    "version": 3
   },
   "file_extension": ".py",
   "mimetype": "text/x-python",
   "name": "python",
   "nbconvert_exporter": "python",
   "pygments_lexer": "ipython3",
   "version": "3.7.4"
  }
 },
 "nbformat": 4,
 "nbformat_minor": 2
}
