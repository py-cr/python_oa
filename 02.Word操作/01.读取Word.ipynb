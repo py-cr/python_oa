{
 "cells": [
  {
   "cell_type": "code",
   "execution_count": 1,
   "metadata": {},
   "outputs": [],
   "source": [
    "import docx"
   ]
  },
  {
   "cell_type": "code",
   "execution_count": null,
   "metadata": {},
   "outputs": [],
   "source": [
    "# Anaconda 默认不包含 docx工具包，需要执行以下脚本进行安装\n",
    "!pip install -i https://mirrors.aliyun.com/pypi/simple/ python-docx"
   ]
  },
  {
   "cell_type": "code",
   "execution_count": null,
   "metadata": {},
   "outputs": [],
   "source": [
    "# Document 对象表示整个文档；\n",
    "# Paragrapha 对象表示段落（在文档中，每一次回车会产生新段落）\n",
    "# Run 对象表示相同样式的文本延续\n",
    "# Document 对象包含一个 Paragrapha 对象的列表，Paragraph 对象包含一个 Run 对象的列表。"
   ]
  },
  {
   "cell_type": "code",
   "execution_count": 2,
   "metadata": {},
   "outputs": [
    {
     "name": "stdout",
     "output_type": "stream",
     "text": [
      "段落数:3\n",
      "Docx 工具包的使用说明\n",
      "Anaconda 默认不包含 docx工具包，需要执行以下脚本进行安装\n",
      "!pip install -i https://mirrors.aliyun.com/pypi/simple/ python-docx\n",
      "第0段的内容是：Docx 工具包的使用说明\n",
      "第1段的内容是：Anaconda 默认不包含 docx工具包，需要执行以下脚本进行安装\n",
      "第2段的内容是：!pip install -i https://mirrors.aliyun.com/pypi/simple/ python-docx\n"
     ]
    }
   ],
   "source": [
    "#读取docx中的文本代码示例\n",
    "\n",
    "#获取文档对象\n",
    "file=docx.Document(r\".\\files\\Word_读取说明.docx\")\n",
    "print(\"段落数:\"+str(len(file.paragraphs)))#段落数为13，每个回车隔离一段\n",
    "\n",
    "#输出每一段的内容\n",
    "for para in file.paragraphs:\n",
    "    print(para.text)\n",
    "\n",
    "#输出段落编号及段落内容\n",
    "for i in range(len(file.paragraphs)):\n",
    "    print(\"第\"+str(i)+\"段的内容是：\"+file.paragraphs[i].text)"
   ]
  },
  {
   "cell_type": "code",
   "execution_count": null,
   "metadata": {},
   "outputs": [],
   "source": []
  }
 ],
 "metadata": {
  "kernelspec": {
   "display_name": "Python 3",
   "language": "python",
   "name": "python3"
  },
  "language_info": {
   "codemirror_mode": {
    "name": "ipython",
    "version": 3
   },
   "file_extension": ".py",
   "mimetype": "text/x-python",
   "name": "python",
   "nbconvert_exporter": "python",
   "pygments_lexer": "ipython3",
   "version": "3.7.4"
  }
 },
 "nbformat": 4,
 "nbformat_minor": 2
}
