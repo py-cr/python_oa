{
 "cells": [
  {
   "cell_type": "code",
   "execution_count": 5,
   "metadata": {},
   "outputs": [],
   "source": [
    "# 从docx 工具包中导入要使用的对象\n",
    "from docx import Document\n",
    "from docx.shared import Pt,Inches\n",
    "from docx.shared import RGBColor\n",
    "from docx.enum.text import WD_PARAGRAPH_ALIGNMENT"
   ]
  },
  {
   "cell_type": "code",
   "execution_count": 6,
   "metadata": {},
   "outputs": [],
   "source": [
    "# Anaconda 默认不包含 docx工具包，需要执行以下脚本进行安装\n",
    "# 如果本地没有安装工具包，请去掉“#”，再执行\n",
    "# !pip install -i https://mirrors.aliyun.com/pypi/simple/ python-docx"
   ]
  },
  {
   "cell_type": "markdown",
   "metadata": {},
   "source": [
    "# 1、创建一个 Word 文档对象"
   ]
  },
  {
   "cell_type": "code",
   "execution_count": 7,
   "metadata": {},
   "outputs": [],
   "source": [
    "# Document 不包含文件路径就是在内存中创建 Word 对象\n",
    "document = Document()"
   ]
  },
  {
   "cell_type": "markdown",
   "metadata": {},
   "source": [
    "# 2、增加标题、段落"
   ]
  },
  {
   "cell_type": "code",
   "execution_count": 15,
   "metadata": {},
   "outputs": [
    {
     "data": {
      "text/plain": [
       "<docx.text.run.Run at 0x1fcec4e0c48>"
      ]
     },
     "execution_count": 15,
     "metadata": {},
     "output_type": "execute_result"
    }
   ],
   "source": [
    "# 标题 0（实际上是段落paragraph）\n",
    "document.add_heading('Word对象说明', 0)\n",
    "\n",
    "# 创建段落\n",
    "p1 = document.add_paragraph('')\n",
    "p1.add_run('Document').bold = True\n",
    "p1.add_run('对象包含多个')\n",
    "# def add_run(self, text=None, style=None):\n",
    "p1.add_run('Paragraph').bold = True\n",
    "p1.add_run('对象，').font.size = Pt(16)\n",
    "p1.add_run('Paragraph').bold = True\n",
    "p1.add_run('对象包含多个').font.color.rgb = RGBColor(255, 0, 0)\n",
    "p1.add_run('Run').bold = True\n",
    "p1.add_run('对象')"
   ]
  },
  {
   "cell_type": "markdown",
   "metadata": {},
   "source": [
    "# 3、增加无序列表段落"
   ]
  },
  {
   "cell_type": "code",
   "execution_count": 9,
   "metadata": {},
   "outputs": [
    {
     "data": {
      "text/plain": [
       "<docx.text.paragraph.Paragraph at 0x1fceb15f248>"
      ]
     },
     "execution_count": 9,
     "metadata": {},
     "output_type": "execute_result"
    }
   ],
   "source": [
    "# 标题 1（实际上是段落paragraph）\n",
    "document.add_heading('无序列表', level=1)\n",
    "# 列表（段落指定样式）\n",
    "document.add_paragraph(\n",
    "    'Document 对象表示整个文档', \n",
    "    style='List Bullet'\n",
    ")\n",
    "document.add_paragraph(\n",
    "    'Paragraph 对象表示段落（每一次回车会产生新段落）', \n",
    "    style='List Bullet'\n",
    ")\n",
    "document.add_paragraph(\n",
    "    'Run 对象表示相同样式的文本延续', \n",
    "    style='List Bullet'\n",
    ")\n"
   ]
  },
  {
   "cell_type": "markdown",
   "metadata": {},
   "source": [
    "# 4、增加有序列表段落"
   ]
  },
  {
   "cell_type": "code",
   "execution_count": 10,
   "metadata": {},
   "outputs": [],
   "source": [
    "# 标题 1（实际上是段落paragraph）\n",
    "document.add_heading('有序列表', level=1)\n",
    "document.add_paragraph(\n",
    "    'Document 对象表示整个文档', style='List Number'\n",
    ").style.font.size = Pt(10)\n",
    "\n",
    "document.add_paragraph(\n",
    "    'Paragraph 对象表示段落（每一次回车会产生新段落）', style='List Number'\n",
    ").style.font.name = '微软雅黑'\n",
    "document.add_paragraph(\n",
    "    'Run 对象表示相同样式的文本延续', style='List Number'\n",
    ").style.font.name = '微软雅黑'"
   ]
  },
  {
   "cell_type": "markdown",
   "metadata": {},
   "source": [
    "# 5、增加表格"
   ]
  },
  {
   "cell_type": "code",
   "execution_count": 11,
   "metadata": {},
   "outputs": [],
   "source": [
    "document.add_heading('Word对象说明', level=1)\n",
    "# 元组\n",
    "records = (\n",
    "    (1, 'Document', '表示整个文档'),\n",
    "    (2, 'Paragraph', '表示段落（每一次回车会产生新段落）'),\n",
    "    (3, 'Run', '表示相同样式的文本延续'),\n",
    "    ('', '', '')\n",
    ")\n",
    "\n",
    "table = document.add_table(rows=1, cols=3)\n",
    "hdr_cells = table.rows[0].cells\n",
    "hdr_cells[0].text = '序号'\n",
    "hdr_cells[1].text = '对象'\n",
    "hdr_cells[2].text = '说明'\n",
    "for no,name, desc in records:\n",
    "    row_cells = table.add_row().cells\n",
    "    row_cells[0].text = str(no)\n",
    "    row_cells[1].text = name\n",
    "    row_cells[2].text = desc\n",
    "\n",
    "merged_cell = table.cell(4, 0).merge(table.cell(4, 2))\n",
    "merged_cell.text = ''\n",
    "\n",
    "merged_cell_p = merged_cell.paragraphs[0]\n",
    "merged_cell_p.add_run('Document 对象包含多个Paragraph').bold = True #第一行合并"
   ]
  },
  {
   "cell_type": "markdown",
   "metadata": {},
   "source": [
    "# 6、增加分页（开始新的一页）"
   ]
  },
  {
   "cell_type": "code",
   "execution_count": 12,
   "metadata": {},
   "outputs": [
    {
     "data": {
      "text/plain": [
       "<docx.text.paragraph.Paragraph at 0x1fceb193488>"
      ]
     },
     "execution_count": 12,
     "metadata": {},
     "output_type": "execute_result"
    }
   ],
   "source": [
    "# 也是一个段落\n",
    "document.add_page_break()"
   ]
  },
  {
   "cell_type": "markdown",
   "metadata": {},
   "source": [
    "# 7、增加图片"
   ]
  },
  {
   "cell_type": "code",
   "execution_count": 13,
   "metadata": {},
   "outputs": [
    {
     "data": {
      "text/plain": [
       "<docx.shape.InlineShape at 0x1fcec4cecc8>"
      ]
     },
     "execution_count": 13,
     "metadata": {},
     "output_type": "execute_result"
    }
   ],
   "source": [
    "document.add_heading('Word对象结构图', level=1)\n",
    "# 添加图片并且居中\n",
    "paragraph = document.add_paragraph()\n",
    "# 图片居中设置\n",
    "paragraph.alignment = WD_PARAGRAPH_ALIGNMENT.CENTER\n",
    "run = paragraph.add_run(\"\")\n",
    "run.add_picture(r'.\\images\\Word对象结构图.png',width=Inches(4))"
   ]
  },
  {
   "cell_type": "markdown",
   "metadata": {},
   "source": [
    "# 8、保存到 Word 文件"
   ]
  },
  {
   "cell_type": "code",
   "execution_count": 14,
   "metadata": {},
   "outputs": [],
   "source": [
    "docx_file = r'.\\files\\Word_对象说明.docx'\n",
    "document.save(docx_file)"
   ]
  },
  {
   "cell_type": "code",
   "execution_count": 21,
   "metadata": {},
   "outputs": [
    {
     "name": "stdout",
     "output_type": "stream",
     "text": [
      "\n",
      " \n",
      "这是一个普通的段落【微软雅黑】\n",
      "这是一个有【微软雅黑】\n",
      "粗体字、【微软雅黑,粗体字】\n",
      "斜体字、【微软雅黑,斜体字】\n",
      "红色字【微软雅黑,颜色:FF0000】\n",
      "的段落【微软雅黑】\n",
      "*************** 图片 **************\n"
     ]
    },
    {
     "data": {
      "image/png": "[encoded data removed]",
      "text/plain": [
       "<Figure size 1152x864 with 1 Axes>"
      ]
     },
     "metadata": {},
     "output_type": "display_data"
    }
   ],
   "source": [
    "import docx # 导入word工具包\n",
    "\n",
    "\n",
    "#读取docx中的文本代码示例\n",
    "def read_docx(docx_file):\n",
    "    # 打开 Word 文档\n",
    "    document = docx.Document(docx_file)\n",
    "    # 读取 Word 文档中的段落\n",
    "    # 文档中的 paragraphs 段落对象列表\n",
    "    for paragraph in document.paragraphs:\n",
    "        # 段落对象中的 runs 文本块对象列表\n",
    "        for r in paragraph.runs:\n",
    "            r_info = \"\" # 存放一个文本块内容和样式信息，print 结果\n",
    "            if r.font.name is not None: # 如果字体名称不为空，显示字体名\n",
    "                r_info += r.font.name + \",\"\n",
    "            if r.font.size is not None: # 如果字号不为空，显示字号\n",
    "                r_info += \"字号:\" + str(round(int(r.font.size)/12700)) + \",\"\n",
    "            if r.bold: # 如果是粗体字\n",
    "                r_info += \"粗体字,\"\n",
    "            if r.italic: # 如果是斜体字\n",
    "                r_info += \"斜体字,\"\n",
    "            if r.font.color.rgb is not None: # 如果文字有颜色，显示字体颜色\n",
    "                r_info += \"颜色:\" + str(r.font.color.rgb) + \",\"\n",
    "            # 如果长度大于0，说明 r_info 有样式信息\n",
    "            if len(r_info) > 0:\n",
    "                # r_info 中最后一个字符肯定有一个“逗号”\n",
    "                r_info = r_info[0:-1] # 去掉末尾的“逗号”\n",
    "                r_info = r.text + f\"【{r_info}】\"\n",
    "            else: # 没有样式信息就直接显示文字\n",
    "                r_info = r.text\n",
    "            print(r_info)\n",
    "            \n",
    "    # 文档中的 tables 表格对象列表\n",
    "    for table in document.tables:\n",
    "        # 打印便于简单的展示表格\n",
    "        print(\"---------------------------------\")\n",
    "        for row in table.rows:\n",
    "            row_text = \"\"\n",
    "            for cell in row.cells:\n",
    "                row_text += cell.text + \"\\t|\\t\" # \\t 代表的意思是水平制表符，能否保证列尽可能的对齐\n",
    "            print(row_text[0:-3]) # [0:-3] 去掉最后的 \\t|\\t\n",
    "            # 打印便于简单的展示表格\n",
    "            print(\"---------------------------------\")\n",
    "\n",
    "    def show_img(blob):\n",
    "        \"\"\"\n",
    "        显示图片的函数（以后的课程再讲解）\n",
    "        \"\"\"\n",
    "        from PIL import Image # 图片处理工具包\n",
    "        from io import BytesIO # 字节流工具包\n",
    "        import matplotlib.pyplot as plt # 图片显示\n",
    "        plt.figure('image',figsize=(16,12))\n",
    "        plt.xticks([])\n",
    "        plt.yticks([])\n",
    "        im = Image.open(BytesIO(blob))\n",
    "        plt.imshow(im)\n",
    "        plt.show()\n",
    "\n",
    "    # 读取 Word 文档中的图片（工具包中没有直接提供图片对象列表）\n",
    "    print(\"*************** 图片 **************\")\n",
    "    dict_rel = document.part._rels\n",
    "    for rel in dict_rel:\n",
    "        rel = dict_rel[rel]\n",
    "\n",
    "        if \"image\" in rel.reltype:\n",
    "            show_img(rel.target_part.blob)\n",
    "        else:\n",
    "            # word文档非常复杂，暂不扩展课程内容\n",
    "            # 我们把 word的扩展名改一下，您会发现确实复杂\n",
    "            pass # 这个语法就是 pass 通过，什么事情都不做，以后会经常见到  \n",
    "\n",
    "read_docx(r\".\\files\\Word结构.docx\")"
   ]
  },
  {
   "cell_type": "code",
   "execution_count": null,
   "metadata": {},
   "outputs": [],
   "source": []
  },
  {
   "cell_type": "code",
   "execution_count": null,
   "metadata": {},
   "outputs": [],
   "source": []
  }
 ],
 "metadata": {
  "kernelspec": {
   "display_name": "Python 3",
   "language": "python",
   "name": "python3"
  },
  "language_info": {
   "codemirror_mode": {
    "name": "ipython",
    "version": 3
   },
   "file_extension": ".py",
   "mimetype": "text/x-python",
   "name": "python",
   "nbconvert_exporter": "python",
   "pygments_lexer": "ipython3",
   "version": "3.7.4"
  }
 },
 "nbformat": 4,
 "nbformat_minor": 2
}
