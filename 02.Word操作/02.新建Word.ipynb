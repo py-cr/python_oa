{
 "cells": [
  {
   "cell_type": "code",
   "execution_count": null,
   "metadata": {},
   "outputs": [],
   "source": [
    "from docx import Document"
   ]
  },
  {
   "cell_type": "code",
   "execution_count": null,
   "metadata": {},
   "outputs": [],
   "source": [
    "# Anaconda 默认不包含 docx工具包，需要执行以下脚本进行安装\n",
    "!pip install -i https://mirrors.aliyun.com/pypi/simple/ python-docx"
   ]
  },
  {
   "cell_type": "code",
   "execution_count": null,
   "metadata": {},
   "outputs": [],
   "source": [
    "# 创建文档\n",
    "document = Document()\n",
    "# 标题\n",
    "document.add_heading('Docx 工具包的使用说明', 0)\n",
    "# 标题1\n",
    "document.add_heading('1、课程内容', 1)\n",
    "# 列表\n",
    "document.add_paragraph('A：新建Word文档', style='List Bullet')\n",
    "document.add_paragraph('B：读取Word文档', style='List Bullet')\n",
    "document.add_paragraph('C：综合练习', style='List Bullet')\n",
    "# 标题 2\n",
    "document.add_heading('2、工具安装', 2)\n",
    "# 段落\n",
    "document.add_paragraph('Anaconda 默认不包含 docx工具包，需要执行以下脚本进行安装')\n",
    "# 段落\n",
    "document.add_paragraph('!pip install -i https://mirrors.aliyun.com/pypi/simple/ python-docx')\n",
    "# 保存\n",
    "document.save(r'.\\files\\Word_写入内容.docx')"
   ]
  },
  {
   "cell_type": "code",
   "execution_count": 10,
   "metadata": {},
   "outputs": [],
   "source": [
    "from docx import Document\n",
    "from docx.shared import Inches\n",
    "\n",
    "\n",
    "def write_docx(docx_file):\n",
    "    document = Document()\n",
    "\n",
    "    document.add_heading('Word对象结构图', 0)\n",
    "\n",
    "    p = document.add_paragraph('')\n",
    "    p.add_run('Document').bold = True\n",
    "    p.add_run('对象包含一个')\n",
    "    # def add_run(self, text=None, style=None):\n",
    "    p.add_run('Paragrapha').bold = True\n",
    "    p.add_run('对象的列表')\n",
    "    p.add_run('Paragrapha').bold = True\n",
    "    p.add_run('对象包含一个')\n",
    "    p.add_run('Run').bold = True\n",
    "    p.add_run('对象的列表。')\n",
    "\n",
    "    # def add_heading(self, text=\"\", level=1):\n",
    "    document.add_heading('无序列表', level=1)\n",
    "    document.add_paragraph(\n",
    "        'Document 对象表示整个文档', style='List Bullet'\n",
    "    )\n",
    "    document.add_paragraph(\n",
    "        'Paragrapha 对象表示段落（在文档中，每一次回车会产生新段落）', style='List Bullet'\n",
    "    )\n",
    "    document.add_paragraph(\n",
    "        'Run 对象表示相同样式的文本延续', style='List Bullet'\n",
    "    )\n",
    "\n",
    "    document.add_heading('有序列表', level=1)\n",
    "    document.add_paragraph(\n",
    "        'Document 对象表示整个文档', style='List Number'\n",
    "    )\n",
    "    document.add_paragraph(\n",
    "        'Paragrapha 对象表示段落（在文档中，每一次回车会产生新段落）', style='List Number'\n",
    "    )\n",
    "    document.add_paragraph(\n",
    "        'Run 对象表示相同样式的文本延续', style='List Number'\n",
    "    )\n",
    "\n",
    "    document.add_heading('Word对象说明', level=1)\n",
    "    records = (\n",
    "        (1, 'Document', '表示整个文档'),\n",
    "        (2, 'Paragrapha', '表示段落（在文档中，每一次回车会产生新段落）'),\n",
    "        (3, 'Run', '表示相同样式的文本延续')\n",
    "    )\n",
    "\n",
    "    table = document.add_table(rows=1, cols=3)\n",
    "    hdr_cells = table.rows[0].cells\n",
    "    hdr_cells[0].text = '序号'\n",
    "    hdr_cells[1].text = '对象'\n",
    "    hdr_cells[2].text = '说明'\n",
    "    for qty, id, desc in records:\n",
    "        row_cells = table.add_row().cells\n",
    "        row_cells[0].text = str(qty)\n",
    "        row_cells[1].text = id\n",
    "        row_cells[2].text = desc\n",
    "\n",
    "    document.add_heading('Word对象结构图', level=1)\n",
    "    # add_picture(self, image_path_or_stream, width=None, height=None)\n",
    "    document.add_picture(r'.\\images\\Word对象结构图.png', width=Inches(1.25))\n",
    "    \n",
    "    document.add_page_break()\n",
    "\n",
    "    document.save(docx_file)\n",
    "\n",
    "docx_file = r'.\\files\\Word_对象说明.docx'\n",
    "write_docx(docx_file)\n"
   ]
  },
  {
   "cell_type": "code",
   "execution_count": null,
   "metadata": {},
   "outputs": [],
   "source": []
  }
 ],
 "metadata": {
  "kernelspec": {
   "display_name": "Python 3",
   "language": "python",
   "name": "python3"
  },
  "language_info": {
   "codemirror_mode": {
    "name": "ipython",
    "version": 3
   },
   "file_extension": ".py",
   "mimetype": "text/x-python",
   "name": "python",
   "nbconvert_exporter": "python",
   "pygments_lexer": "ipython3",
   "version": "3.7.4"
  }
 },
 "nbformat": 4,
 "nbformat_minor": 2
}
