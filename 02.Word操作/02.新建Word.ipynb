{
 "cells": [
  {
   "cell_type": "code",
   "execution_count": null,
   "metadata": {},
   "outputs": [],
   "source": [
    "# 从docx 工具包中导入要使用的对象\n",
    "from docx import Document\n",
    "# 字号、尺寸、大小单位：pt(点数或磅)、px(像素)、inch(英寸)、cm(厘米)等等\n",
    "from docx.shared import Pt, Inches \n",
    "from docx.shared import RGBColor # RGB颜色"
   ]
  },
  {
   "cell_type": "code",
   "execution_count": null,
   "metadata": {},
   "outputs": [],
   "source": [
    "# Anaconda 默认不包含 docx工具包，需要执行以下脚本进行安装\n",
    "# 如果本地没有安装工具包，请去掉“#”，再执行\n",
    "# !pip install -i https://mirrors.aliyun.com/pypi/simple/ python-docx"
   ]
  },
  {
   "cell_type": "markdown",
   "metadata": {},
   "source": [
    "# 1、创建一个 Word 文档对象"
   ]
  },
  {
   "cell_type": "code",
   "execution_count": null,
   "metadata": {},
   "outputs": [],
   "source": [
    "# Document 不包含文件路径就是在内存中创建 Word 对象\n",
    "document = Document()"
   ]
  },
  {
   "cell_type": "markdown",
   "metadata": {},
   "source": [
    "# 2、增加标题、段落"
   ]
  },
  {
   "cell_type": "code",
   "execution_count": null,
   "metadata": {},
   "outputs": [],
   "source": [
    "# 添加顶级标题（实际上标题也是段落 paragraph）\n",
    "document.add_heading('Word对象说明', level=0)\n",
    "\n",
    "# 创建一个空字符串段落 p1\n",
    "p1 = document.add_paragraph('')\n",
    "# 在段落 p1 后增加粗体字文字块 Document \n",
    "p1.add_run('Document').bold = True\n",
    "# 继续增加默认样式文字块\n",
    "p1.add_run('对象包含多个')\n",
    "p1.add_run('Paragraph').bold = True\n",
    "# 继续增加 字号=16磅 的文字块\n",
    "p1.add_run('对象，').font.size = Pt(16)\n",
    "p1.add_run('Paragraph').bold = True\n",
    "# 继续增加 红色字体 的文字块\n",
    "p1.add_run('对象包含多个').font.color.rgb = RGBColor(255, 0, 0)\n",
    "p1.add_run('Run').bold = True\n",
    "p1.add_run('对象')"
   ]
  },
  {
   "cell_type": "markdown",
   "metadata": {},
   "source": [
    "# 3、增加无序列表段落"
   ]
  },
  {
   "cell_type": "code",
   "execution_count": null,
   "metadata": {},
   "outputs": [],
   "source": [
    "# 添加一级标题\n",
    "document.add_heading('无序列表', level=1)\n",
    "# 添加 3 个无序列表样式段落（List Bullet）\n",
    "document.add_paragraph(\n",
    "    'Document 对象表示整个文档', \n",
    "    style='List Bullet'\n",
    ")\n",
    "document.add_paragraph(\n",
    "    'Paragraph 对象表示段落（每一次回车会产生新段落）', \n",
    "    style='List Bullet'\n",
    ")\n",
    "document.add_paragraph(\n",
    "    'Run 对象表示相同样式的文本延续', \n",
    "    style='List Bullet'\n",
    ")\n"
   ]
  },
  {
   "cell_type": "markdown",
   "metadata": {},
   "source": [
    "# 4、增加有序列表段落并设置样式"
   ]
  },
  {
   "cell_type": "code",
   "execution_count": null,
   "metadata": {},
   "outputs": [],
   "source": [
    "# 添加一级标题\n",
    "document.add_heading('有序列表', level=1)\n",
    "# 添加 3 个有序列表样式段落（List Number）\n",
    "p_no1 = document.add_paragraph(\n",
    "    'Document 对象表示整个文档', style='List Number'\n",
    ")\n",
    "# 样式：字号=16磅 \n",
    "p_no1.style.font.size = Pt(10)\n",
    "\n",
    "p_no2 = document.add_paragraph(\n",
    "    'Paragraph 对象表示段落（每一次回车会产生新段落）', \n",
    "    style='List Number'\n",
    ")\n",
    "# 样式：字体为“微软雅黑”\n",
    "p_no2.style.font.name = '微软雅黑'\n",
    "\n",
    "p_no3 = document.add_paragraph(\n",
    "    'Run 对象表示相同样式的文本延续', style='List Number'\n",
    ")\n",
    "p_no3.style.font.name = '微软雅黑'"
   ]
  },
  {
   "cell_type": "markdown",
   "metadata": {},
   "source": [
    "# 5、保存到 Word 文件"
   ]
  },
  {
   "cell_type": "code",
   "execution_count": null,
   "metadata": {},
   "outputs": [],
   "source": [
    "docx_file = r'.\\files\\Word_对象说明.docx'\n",
    "document.save(docx_file)"
   ]
  },
  {
   "cell_type": "markdown",
   "metadata": {},
   "source": [
    "# 利用代码查看文档结构"
   ]
  },
  {
   "cell_type": "code",
   "execution_count": null,
   "metadata": {},
   "outputs": [],
   "source": [
    "# 导入读取docx文档结构函数\n",
    "from docx_ext import read_docx\n",
    "read_docx(docx_file)"
   ]
  },
  {
   "cell_type": "markdown",
   "metadata": {},
   "source": [
    "# 思考题"
   ]
  },
  {
   "cell_type": "markdown",
   "metadata": {},
   "source": [
    "大家尝试修改代码，用段落Paragraph和文字块Run完成一个简单的Word文档"
   ]
  },
  {
   "cell_type": "code",
   "execution_count": null,
   "metadata": {},
   "outputs": [],
   "source": []
  }
 ],
 "metadata": {
  "kernelspec": {
   "display_name": "Python 3",
   "language": "python",
   "name": "python3"
  },
  "language_info": {
   "codemirror_mode": {
    "name": "ipython",
    "version": 3
   },
   "file_extension": ".py",
   "mimetype": "text/x-python",
   "name": "python",
   "nbconvert_exporter": "python",
   "pygments_lexer": "ipython3",
   "version": "3.7.4"
  }
 },
 "nbformat": 4,
 "nbformat_minor": 2
}
