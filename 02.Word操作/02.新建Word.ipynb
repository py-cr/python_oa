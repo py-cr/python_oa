{
 "cells": [
  {
   "cell_type": "code",
   "execution_count": null,
   "metadata": {},
   "outputs": [],
   "source": [
    "from docx import Document"
   ]
  },
  {
   "cell_type": "code",
   "execution_count": null,
   "metadata": {},
   "outputs": [],
   "source": [
    "# Anaconda 默认不包含 docx工具包，需要执行以下脚本进行安装\n",
    "!pip install -i https://mirrors.aliyun.com/pypi/simple/ python-docx"
   ]
  },
  {
   "cell_type": "code",
   "execution_count": null,
   "metadata": {},
   "outputs": [],
   "source": [
    "# 创建文档\n",
    "document = Document()\n",
    "# 标题\n",
    "document.add_heading('Docx 工具包的使用说明', 0)\n",
    "# 标题1\n",
    "document.add_heading('1、课程内容', 1)\n",
    "# 列表\n",
    "document.add_paragraph('A：新建Word文档', style='List Bullet')\n",
    "document.add_paragraph('B：读取Word文档', style='List Bullet')\n",
    "document.add_paragraph('C：综合练习', style='List Bullet')\n",
    "# 标题 2\n",
    "document.add_heading('2、工具安装', 2)\n",
    "# 段落\n",
    "document.add_paragraph('Anaconda 默认不包含 docx工具包，需要执行以下脚本进行安装')\n",
    "# 段落\n",
    "document.add_paragraph('!pip install -i https://mirrors.aliyun.com/pypi/simple/ python-docx')\n",
    "# 保存\n",
    "document.save(r'.\\files\\Word_写入内容.docx')"
   ]
  },
  {
   "cell_type": "code",
   "execution_count": null,
   "metadata": {},
   "outputs": [],
   "source": []
  }
 ],
 "metadata": {
  "kernelspec": {
   "display_name": "Python 3",
   "language": "python",
   "name": "python3"
  },
  "language_info": {
   "codemirror_mode": {
    "name": "ipython",
    "version": 3
   },
   "file_extension": ".py",
   "mimetype": "text/x-python",
   "name": "python",
   "nbconvert_exporter": "python",
   "pygments_lexer": "ipython3",
   "version": "3.7.4"
  }
 },
 "nbformat": 4,
 "nbformat_minor": 2
}
