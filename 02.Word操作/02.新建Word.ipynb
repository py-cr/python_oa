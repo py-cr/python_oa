{
 "cells": [
  {
   "cell_type": "code",
   "execution_count": 8,
   "metadata": {},
   "outputs": [],
   "source": [
    "from docx import Document"
   ]
  },
  {
   "cell_type": "code",
   "execution_count": 3,
   "metadata": {
    "scrolled": false
   },
   "outputs": [
    {
     "name": "stdout",
     "output_type": "stream",
     "text": [
      "Looking in indexes: https://mirrors.aliyun.com/pypi/simple/\n",
      "Collecting python-docx\n",
      "  Downloading https://mirrors.aliyun.com/pypi/packages/8b/a0/52729ce4aa026f31b74cc877be1d11e4ddeaa361dc7aebec148171644b33/python-docx-0.8.11.tar.gz (5.6MB)\n",
      "Requirement already satisfied: lxml>=2.3.2 in c:\\programdata\\anaconda3\\lib\\site-packages (from python-docx) (4.4.1)\n",
      "Building wheels for collected packages: python-docx\n",
      "  Building wheel for python-docx (setup.py): started\n",
      "  Building wheel for python-docx (setup.py): finished with status 'done'\n",
      "  Created wheel for python-docx: filename=python_docx-0.8.11-cp37-none-any.whl size=184602 sha256=3fe479373e9a9f8aad8d562d52bbc774d97199c5918a03520d5c47123fa20ffe\n",
      "  Stored in directory: C:\\Users\\Administrator\\AppData\\Local\\pip\\Cache\\wheels\\91\\9a\\cd\\c781791f24c73722de59b2ec5c6ec96219fb6ff0d7cf4f166f\n",
      "Successfully built python-docx\n",
      "Installing collected packages: python-docx\n",
      "Successfully installed python-docx-0.8.11\n"
     ]
    }
   ],
   "source": [
    "# Anaconda 默认不包含 docx工具包，需要执行以下脚本进行安装\n",
    "!pip install -i https://mirrors.aliyun.com/pypi/simple/ python-docx"
   ]
  },
  {
   "cell_type": "code",
   "execution_count": 11,
   "metadata": {},
   "outputs": [],
   "source": [
    "# 创建文档\n",
    "document = Document()\n",
    "# 标题\n",
    "document.add_heading('Docx 工具包的使用说明', 0)\n",
    "# 标题1\n",
    "document.add_heading('1、课程内容', 1)\n",
    "# 列表\n",
    "document.add_paragraph('A：新建Word文档', style='List Bullet')\n",
    "document.add_paragraph('B：读取Word文档', style='List Bullet')\n",
    "document.add_paragraph('C：综合练习', style='List Bullet')\n",
    "# 标题 2\n",
    "document.add_heading('2、工具安装', 2)\n",
    "# 段落\n",
    "document.add_paragraph('Anaconda 默认不包含 docx工具包，需要执行以下脚本进行安装')\n",
    "# 段落\n",
    "document.add_paragraph('!pip install -i https://mirrors.aliyun.com/pypi/simple/ python-docx')\n",
    "# 保存\n",
    "document.save(r'.\\files\\Word_写入内容.docx')"
   ]
  },
  {
   "cell_type": "code",
   "execution_count": null,
   "metadata": {},
   "outputs": [],
   "source": []
  }
 ],
 "metadata": {
  "kernelspec": {
   "display_name": "Python 3",
   "language": "python",
   "name": "python3"
  },
  "language_info": {
   "codemirror_mode": {
    "name": "ipython",
    "version": 3
   },
   "file_extension": ".py",
   "mimetype": "text/x-python",
   "name": "python",
   "nbconvert_exporter": "python",
   "pygments_lexer": "ipython3",
   "version": "3.7.4"
  }
 },
 "nbformat": 4,
 "nbformat_minor": 2
}
