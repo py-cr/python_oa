{
 "cells": [
  {
   "cell_type": "code",
   "execution_count": null,
   "metadata": {},
   "outputs": [],
   "source": [
    "# 从docx 工具包中导入要使用的对象\n",
    "from docx import Document\n",
    "# 字号、大小单位：pt(点数或磅)、px(像素)、inch(英寸)、cm(厘米)\n",
    "from docx.shared import Pt,Inches \n",
    "from docx.enum.text import WD_PARAGRAPH_ALIGNMENT # 段落对齐"
   ]
  },
  {
   "cell_type": "code",
   "execution_count": null,
   "metadata": {},
   "outputs": [],
   "source": [
    "# Anaconda 默认不包含 docx工具包，需要执行以下脚本进行安装\n",
    "# 如果本地没有安装工具包，请去掉“#”，再执行\n",
    "# !pip install -i https://mirrors.aliyun.com/pypi/simple/ python-docx"
   ]
  },
  {
   "cell_type": "markdown",
   "metadata": {},
   "source": [
    "# 1、创建一个 Word 文档对象"
   ]
  },
  {
   "cell_type": "code",
   "execution_count": null,
   "metadata": {},
   "outputs": [],
   "source": [
    "# Document 不包含文件路径就是在内存中创建 Word 对象\n",
    "document = Document()\n",
    "# 添加顶级标题（实际上标题也是段落 paragraph）\n",
    "document.add_heading('Word 表格和图片', level=0)"
   ]
  },
  {
   "cell_type": "markdown",
   "metadata": {},
   "source": [
    "# 2、增加表格"
   ]
  },
  {
   "cell_type": "code",
   "execution_count": null,
   "metadata": {},
   "outputs": [],
   "source": [
    "# 添加一级标题\n",
    "document.add_heading('Word对象说明表', level=1)\n",
    "# 元组\n",
    "records = (\n",
    "    (1, 'Document', '表示整个文档'),\n",
    "    (2, 'Paragraph', '表示段落（每一次回车会产生新段落）'),\n",
    "    (3, 'Run', '表示相同样式的文本延续'),\n",
    "    ('', '', '')\n",
    ")\n",
    "\n",
    "table = document.add_table(rows=1, cols=3)\n",
    "\n",
    "hdr_cells = table.rows[0].cells\n",
    "hdr_cells[0].text = '序号'\n",
    "hdr_cells[1].text = '对象'\n",
    "hdr_cells[2].text = '说明'\n",
    "for no,name, desc in records:\n",
    "    row_cells = table.add_row().cells\n",
    "    row_cells[0].text = str(no)\n",
    "    row_cells[1].text = name\n",
    "    row_cells[2].text = desc\n",
    "\n",
    "merged_cell = table.cell(4, 0).merge(table.cell(4, 2))\n",
    "merged_cell.text = ''\n",
    "\n",
    "merged_cell_p = merged_cell.paragraphs[0]\n",
    "merged_cell_p.add_run('Document 对象包含多个Paragraph').bold = True #第一行合并"
   ]
  },
  {
   "cell_type": "markdown",
   "metadata": {},
   "source": [
    "# 3、增加分页（开始新的一页）"
   ]
  },
  {
   "cell_type": "code",
   "execution_count": null,
   "metadata": {},
   "outputs": [],
   "source": [
    "# 也是一个段落\n",
    "document.add_page_break()"
   ]
  },
  {
   "cell_type": "markdown",
   "metadata": {},
   "source": [
    "# 4、增加图片"
   ]
  },
  {
   "cell_type": "code",
   "execution_count": null,
   "metadata": {},
   "outputs": [],
   "source": [
    "document.add_heading('Word对象结构图', level=1)\n",
    "document.add_picture(r'.\\images\\Word对象结构图.png',width=Inches(4))"
   ]
  },
  {
   "cell_type": "markdown",
   "metadata": {},
   "source": [
    "# 5、保存到 Word 文件"
   ]
  },
  {
   "cell_type": "code",
   "execution_count": null,
   "metadata": {},
   "outputs": [],
   "source": [
    "docx_file = r'.\\files\\Word表格和图片.docx'\n",
    "document.save(docx_file)"
   ]
  },
  {
   "cell_type": "markdown",
   "metadata": {},
   "source": [
    "# 查看文档结构"
   ]
  },
  {
   "cell_type": "code",
   "execution_count": null,
   "metadata": {},
   "outputs": [],
   "source": [
    "# 导入读取docx文档结构函数\n",
    "from docx_ext import read_docx\n",
    "read_docx(docx_file)"
   ]
  },
  {
   "cell_type": "markdown",
   "metadata": {},
   "source": [
    "# 思考题\n",
    "大家尝试修改代码，用已学到的知识点完成一个有表格和图片的Word文档"
   ]
  },
  {
   "cell_type": "code",
   "execution_count": null,
   "metadata": {},
   "outputs": [],
   "source": []
  },
  {
   "cell_type": "code",
   "execution_count": null,
   "metadata": {},
   "outputs": [],
   "source": []
  }
 ],
 "metadata": {
  "kernelspec": {
   "display_name": "Python 3",
   "language": "python",
   "name": "python3"
  },
  "language_info": {
   "codemirror_mode": {
    "name": "ipython",
    "version": 3
   },
   "file_extension": ".py",
   "mimetype": "text/x-python",
   "name": "python",
   "nbconvert_exporter": "python",
   "pygments_lexer": "ipython3",
   "version": "3.7.4"
  }
 },
 "nbformat": 4,
 "nbformat_minor": 2
}
